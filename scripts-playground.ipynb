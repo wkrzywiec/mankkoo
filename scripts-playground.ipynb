{
 "metadata": {
  "language_info": {
   "codemirror_mode": {
    "name": "ipython",
    "version": 3
   },
   "file_extension": ".py",
   "mimetype": "text/x-python",
   "name": "python",
   "nbconvert_exporter": "python",
   "pygments_lexer": "ipython3",
   "version": "3.8.1"
  },
  "orig_nbformat": 2,
  "kernelspec": {
   "name": "python3",
   "display_name": "Python 3.8.1 64-bit ('mankkoo-Pag_27BR': pipenv)"
  },
  "interpreter": {
   "hash": "3e86e99ade168580c787099a9f4f80d640e1624efa2d4ec615f6e0f5eedba664"
  }
 },
 "nbformat": 4,
 "nbformat_minor": 2,
 "cells": [
  {
   "cell_type": "code",
   "execution_count": null,
   "metadata": {},
   "outputs": [],
   "source": [
    "import scripts.main.config as config\n",
    "import scripts.main.importer.importer as importer\n",
    "import scripts.main.data as data"
   ]
  },
  {
   "source": [
    "## Load account data "
   ],
   "cell_type": "markdown",
   "metadata": {}
  },
  {
   "cell_type": "code",
   "execution_count": null,
   "metadata": {},
   "outputs": [],
   "source": [
    "df = importer.load_data(importer.FileType.ACCOUNT)\n",
    "# df"
   ]
  },
  {
   "source": [
    "## Add/Modify rows on condition"
   ],
   "cell_type": "markdown",
   "metadata": {}
  },
  {
   "cell_type": "code",
   "execution_count": null,
   "metadata": {},
   "outputs": [],
   "source": [
    "df.loc[df['Account'] == 'eKonto', 'Type'] = 'checking'"
   ]
  },
  {
   "cell_type": "code",
   "execution_count": null,
   "metadata": {},
   "outputs": [],
   "source": [
    "data.add_new_operations(importer.Bank.PL_MILLENIUM, 'mil_8.csv', '360')"
   ]
  },
  {
   "source": [
    "## Save account file"
   ],
   "cell_type": "markdown",
   "metadata": {}
  },
  {
   "cell_type": "code",
   "execution_count": null,
   "metadata": {},
   "outputs": [],
   "source": [
    "df.to_csv(config.mankoo_file_path('account'), index=False)"
   ]
  },
  {
   "source": [
    "---\n",
    "## Other"
   ],
   "cell_type": "markdown",
   "metadata": {}
  },
  {
   "cell_type": "code",
   "execution_count": null,
   "metadata": {},
   "outputs": [],
   "source": [
    "import numpy as np\n",
    "df['Operation'] = np.where(df['Obciążenia'] < 0, df['Obciążenia'], df['Uznania'])\n",
    "df\n"
   ]
  },
  {
   "cell_type": "code",
   "execution_count": null,
   "metadata": {},
   "outputs": [],
   "source": [
    "df = df.drop(columns=['Obciążenia', 'Uznania'])\n",
    "df = df.rename(columns={'Data transakcji': 'Date', 'Opis': 'Title', 'Waluta': 'Currency'})\n",
    "df['Bank'] = 'Millenium'\n",
    "existing_columns = list(df.columns)\n",
    "columns = ['Category', 'Comment']\n",
    "df.reindex(existing_columns + columns, axis=\"columns\")\n",
    "df"
   ]
  },
  {
   "cell_type": "code",
   "execution_count": null,
   "metadata": {},
   "outputs": [],
   "source": []
  }
 ]
}