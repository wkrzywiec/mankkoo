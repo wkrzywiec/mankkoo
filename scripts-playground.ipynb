{
 "metadata": {
  "language_info": {
   "codemirror_mode": {
    "name": "ipython",
    "version": 3
   },
   "file_extension": ".py",
   "mimetype": "text/x-python",
   "name": "python",
   "nbconvert_exporter": "python",
   "pygments_lexer": "ipython3",
   "version": "3.8.1"
  },
  "orig_nbformat": 2,
  "kernelspec": {
   "name": "python3",
   "display_name": "Python 3.8.1 64-bit ('mankkoo-Pag_27BR': pipenv)"
  },
  "interpreter": {
   "hash": "3e86e99ade168580c787099a9f4f80d640e1624efa2d4ec615f6e0f5eedba664"
  }
 },
 "nbformat": 4,
 "nbformat_minor": 2,
 "cells": [
  {
   "cell_type": "code",
   "execution_count": null,
   "source": [
    "import scripts.main.config as config\r\n",
    "import scripts.main.importer.importer as importer\r\n",
    "import scripts.main.data as data\r\n",
    "import scripts.main.models as models"
   ],
   "outputs": [],
   "metadata": {}
  },
  {
   "cell_type": "markdown",
   "source": [
    "## Load account data "
   ],
   "metadata": {}
  },
  {
   "cell_type": "code",
   "execution_count": null,
   "source": [
    "df = importer.load_data(importer.FileType.ACCOUNT)\r\n",
    "# df"
   ],
   "outputs": [],
   "metadata": {}
  },
  {
   "cell_type": "markdown",
   "source": [
    "## Add/Modify rows on condition"
   ],
   "metadata": {}
  },
  {
   "cell_type": "code",
   "execution_count": null,
   "source": [
    "df.loc[df['Account'] == 'eKonto', 'Type'] = 'checking'"
   ],
   "outputs": [],
   "metadata": {}
  },
  {
   "cell_type": "code",
   "execution_count": null,
   "source": [
    "data.add_new_operations(models.Bank.PL_ING, 'ing_01.csv', 'Konto z Lwem Direct')"
   ],
   "outputs": [],
   "metadata": {}
  },
  {
   "cell_type": "markdown",
   "source": [
    "## Save account file"
   ],
   "metadata": {}
  },
  {
   "cell_type": "code",
   "execution_count": null,
   "source": [
    "df.to_csv(config.mankoo_file_path('account'), index=False)"
   ],
   "outputs": [],
   "metadata": {}
  },
  {
   "cell_type": "markdown",
   "source": [
    "---\n",
    "## Other"
   ],
   "metadata": {}
  },
  {
   "cell_type": "code",
   "execution_count": null,
   "source": [
    "import numpy as np\r\n",
    "df['Operation'] = np.where(df['Obciążenia'] < 0, df['Obciążenia'], df['Uznania'])\r\n",
    "df\r\n"
   ],
   "outputs": [],
   "metadata": {}
  },
  {
   "cell_type": "code",
   "execution_count": null,
   "source": [
    "df = df.drop(columns=['Obciążenia', 'Uznania'])\r\n",
    "df = df.rename(columns={'Data transakcji': 'Date', 'Opis': 'Title', 'Waluta': 'Currency'})\r\n",
    "df['Bank'] = 'Millenium'\r\n",
    "existing_columns = list(df.columns)\r\n",
    "columns = ['Category', 'Comment']\r\n",
    "df.reindex(existing_columns + columns, axis=\"columns\")\r\n",
    "df"
   ],
   "outputs": [],
   "metadata": {}
  }
 ]
}