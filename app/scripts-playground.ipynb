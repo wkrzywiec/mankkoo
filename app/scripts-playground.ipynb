{
 "metadata": {
  "language_info": {
   "codemirror_mode": {
    "name": "ipython",
    "version": 3
   },
   "file_extension": ".py",
   "mimetype": "text/x-python",
   "name": "python",
   "nbconvert_exporter": "python",
   "pygments_lexer": "ipython3",
   "version": "3.8.1"
  },
  "orig_nbformat": 2,
  "kernelspec": {
   "name": "python381jvsc74a57bd03e86e99ade168580c787099a9f4f80d640e1624efa2d4ec615f6e0f5eedba664",
   "display_name": "Python 3.8.1 64-bit ('mankkoo-Pag_27BR')"
  }
 },
 "nbformat": 4,
 "nbformat_minor": 2,
 "cells": [
  {
   "cell_type": "code",
   "execution_count": 1,
   "metadata": {},
   "outputs": [
    {
     "output_type": "error",
     "ename": "AttributeError",
     "evalue": "partially initialized module 'scripts.main.importer' has no attribute 'Bank' (most likely due to a circular import)",
     "traceback": [
      "\u001b[1;31m---------------------------------------------------------------------------\u001b[0m",
      "\u001b[1;31mAttributeError\u001b[0m                            Traceback (most recent call last)",
      "\u001b[1;32m<ipython-input-1-8449f507b257>\u001b[0m in \u001b[0;36m<module>\u001b[1;34m\u001b[0m\n\u001b[1;32m----> 1\u001b[1;33m \u001b[1;32mimport\u001b[0m \u001b[0mscripts\u001b[0m\u001b[1;33m.\u001b[0m\u001b[0mmain\u001b[0m\u001b[1;33m.\u001b[0m\u001b[0mimporter\u001b[0m \u001b[1;32mas\u001b[0m \u001b[0mimporter\u001b[0m\u001b[1;33m\u001b[0m\u001b[1;33m\u001b[0m\u001b[0m\n\u001b[0m\u001b[0;32m      2\u001b[0m \u001b[1;32mimport\u001b[0m \u001b[0mscripts\u001b[0m\u001b[1;33m.\u001b[0m\u001b[0mmain\u001b[0m\u001b[1;33m.\u001b[0m\u001b[0mconfig\u001b[0m \u001b[1;32mas\u001b[0m \u001b[0mconfig\u001b[0m\u001b[1;33m\u001b[0m\u001b[1;33m\u001b[0m\u001b[0m\n\u001b[0;32m      3\u001b[0m \u001b[1;32mimport\u001b[0m \u001b[0mscripts\u001b[0m\u001b[1;33m.\u001b[0m\u001b[0mmain\u001b[0m\u001b[1;33m.\u001b[0m\u001b[0mdata\u001b[0m \u001b[1;32mas\u001b[0m \u001b[0mdata\u001b[0m\u001b[1;33m\u001b[0m\u001b[1;33m\u001b[0m\u001b[0m\n",
      "\u001b[1;32mc:\\Users\\wojci\\workspace\\mankkoo\\app\\scripts\\main\\importer.py\u001b[0m in \u001b[0;36m<module>\u001b[1;34m\u001b[0m\n\u001b[0;32m      2\u001b[0m \u001b[1;32mimport\u001b[0m \u001b[0mnumpy\u001b[0m \u001b[1;32mas\u001b[0m \u001b[0mnp\u001b[0m\u001b[1;33m\u001b[0m\u001b[1;33m\u001b[0m\u001b[0m\n\u001b[0;32m      3\u001b[0m \u001b[1;32mfrom\u001b[0m \u001b[0msys\u001b[0m \u001b[1;32mimport\u001b[0m \u001b[0mplatform\u001b[0m\u001b[1;33m\u001b[0m\u001b[1;33m\u001b[0m\u001b[0m\n\u001b[1;32m----> 4\u001b[1;33m \u001b[1;32mimport\u001b[0m \u001b[0mscripts\u001b[0m\u001b[1;33m.\u001b[0m\u001b[0mmain\u001b[0m\u001b[1;33m.\u001b[0m\u001b[0mconfig\u001b[0m \u001b[1;32mas\u001b[0m \u001b[0mconfig\u001b[0m\u001b[1;33m\u001b[0m\u001b[1;33m\u001b[0m\u001b[0m\n\u001b[0m\u001b[0;32m      5\u001b[0m \u001b[1;32mfrom\u001b[0m \u001b[0menum\u001b[0m \u001b[1;32mimport\u001b[0m \u001b[0mEnum\u001b[0m\u001b[1;33m\u001b[0m\u001b[1;33m\u001b[0m\u001b[0m\n\u001b[0;32m      6\u001b[0m \u001b[1;33m\u001b[0m\u001b[0m\n",
      "\u001b[1;32mc:\\Users\\wojci\\workspace\\mankkoo\\app\\scripts\\main\\config.py\u001b[0m in \u001b[0;36m<module>\u001b[1;34m\u001b[0m\n\u001b[0;32m      3\u001b[0m \u001b[1;32mfrom\u001b[0m \u001b[0msys\u001b[0m \u001b[1;32mimport\u001b[0m \u001b[0mplatform\u001b[0m\u001b[1;33m\u001b[0m\u001b[1;33m\u001b[0m\u001b[0m\n\u001b[0;32m      4\u001b[0m \u001b[1;32mimport\u001b[0m \u001b[0mlogging\u001b[0m \u001b[1;32mas\u001b[0m \u001b[0mlog\u001b[0m\u001b[1;33m\u001b[0m\u001b[1;33m\u001b[0m\u001b[0m\n\u001b[1;32m----> 5\u001b[1;33m \u001b[1;32mimport\u001b[0m \u001b[0mscripts\u001b[0m\u001b[1;33m.\u001b[0m\u001b[0mmain\u001b[0m\u001b[1;33m.\u001b[0m\u001b[0mdata\u001b[0m \u001b[1;32mas\u001b[0m \u001b[0mdata\u001b[0m\u001b[1;33m\u001b[0m\u001b[1;33m\u001b[0m\u001b[0m\n\u001b[0m\u001b[0;32m      6\u001b[0m \u001b[1;32mimport\u001b[0m \u001b[0mpandas\u001b[0m \u001b[1;32mas\u001b[0m \u001b[0mpd\u001b[0m\u001b[1;33m\u001b[0m\u001b[1;33m\u001b[0m\u001b[0m\n\u001b[0;32m      7\u001b[0m \u001b[1;33m\u001b[0m\u001b[0m\n",
      "\u001b[1;32mc:\\Users\\wojci\\workspace\\mankkoo\\app\\scripts\\main\\data.py\u001b[0m in \u001b[0;36m<module>\u001b[1;34m\u001b[0m\n\u001b[0;32m     52\u001b[0m     \u001b[1;32mreturn\u001b[0m \u001b[1;36m0.00\u001b[0m\u001b[1;33m\u001b[0m\u001b[1;33m\u001b[0m\u001b[0m\n\u001b[0;32m     53\u001b[0m \u001b[1;33m\u001b[0m\u001b[0m\n\u001b[1;32m---> 54\u001b[1;33m \u001b[1;32mdef\u001b[0m \u001b[0madd_new_operations\u001b[0m\u001b[1;33m(\u001b[0m\u001b[0mbank\u001b[0m\u001b[1;33m:\u001b[0m \u001b[0mimporter\u001b[0m\u001b[1;33m.\u001b[0m\u001b[0mBank\u001b[0m\u001b[1;33m,\u001b[0m \u001b[0mfile_name\u001b[0m\u001b[1;33m:\u001b[0m \u001b[0mstr\u001b[0m\u001b[1;33m)\u001b[0m\u001b[1;33m:\u001b[0m\u001b[1;33m\u001b[0m\u001b[1;33m\u001b[0m\u001b[0m\n\u001b[0m\u001b[0;32m     55\u001b[0m     \"\"\"Append bank accounts history with new operations. \n\u001b[0;32m     56\u001b[0m     \u001b[0mThis\u001b[0m \u001b[0mmethod\u001b[0m \u001b[1;32mreturn\u001b[0m \u001b[0ma\u001b[0m \u001b[0mpandas\u001b[0m \u001b[0mDataFrame\u001b[0m \u001b[1;32mwith\u001b[0m \u001b[0mcalculated\u001b[0m \u001b[0mbalance\u001b[0m\u001b[1;33m.\u001b[0m\u001b[1;33m\u001b[0m\u001b[1;33m\u001b[0m\u001b[0m\n",
      "\u001b[1;31mAttributeError\u001b[0m: partially initialized module 'scripts.main.importer' has no attribute 'Bank' (most likely due to a circular import)"
     ]
    }
   ],
   "source": [
    "import scripts.main.importer as importer\n",
    "import scripts.main.config as config"
   ]
  },
  {
   "source": [
    "## Load account data "
   ],
   "cell_type": "markdown",
   "metadata": {}
  },
  {
   "cell_type": "code",
   "execution_count": 12,
   "metadata": {},
   "outputs": [],
   "source": [
    "df = importer.load_data(importer.FileType.ACCOUNT)\n",
    "# df"
   ]
  },
  {
   "source": [
    "## Add/Modify rows on condition"
   ],
   "cell_type": "markdown",
   "metadata": {}
  },
  {
   "cell_type": "code",
   "execution_count": 13,
   "metadata": {},
   "outputs": [],
   "source": [
    "df.loc[df['Account'] == 'eKonto', 'Type'] = 'checking'"
   ]
  },
  {
   "source": [
    "## Save account file"
   ],
   "cell_type": "markdown",
   "metadata": {}
  },
  {
   "cell_type": "code",
   "execution_count": 9,
   "metadata": {},
   "outputs": [],
   "source": [
    "df.to_csv(config.mankoo_file_path('account'), index=False)"
   ]
  },
  {
   "source": [
    "---\n",
    "## Other"
   ],
   "cell_type": "markdown",
   "metadata": {}
  },
  {
   "cell_type": "code",
   "execution_count": 4,
   "metadata": {},
   "outputs": [
    {
     "output_type": "execute_result",
     "data": {
      "text/plain": [
       "  Data transakcji              Opis  Obciążenia  Uznania Waluta  Operation\n",
       "0      2021-03-15  Train ticket PKP      -21.78      NaN    PLN     -21.78\n",
       "1      2021-03-08           Spotify      -19.99      NaN    PLN     -19.99\n",
       "2      2021-02-26           Przelew         NaN    50.00    PLN      50.00\n",
       "3      2021-02-26            PENSJA         NaN  1234.78    PLN    1234.78\n",
       "4      2021-02-25  Zamówienie pizzy      -64.90      NaN    PLN     -64.90\n",
       "5      2021-02-22           Telefon      -69.00      NaN    PLN     -69.00"
      ],
      "text/html": "<div>\n<style scoped>\n    .dataframe tbody tr th:only-of-type {\n        vertical-align: middle;\n    }\n\n    .dataframe tbody tr th {\n        vertical-align: top;\n    }\n\n    .dataframe thead th {\n        text-align: right;\n    }\n</style>\n<table border=\"1\" class=\"dataframe\">\n  <thead>\n    <tr style=\"text-align: right;\">\n      <th></th>\n      <th>Data transakcji</th>\n      <th>Opis</th>\n      <th>Obciążenia</th>\n      <th>Uznania</th>\n      <th>Waluta</th>\n      <th>Operation</th>\n    </tr>\n  </thead>\n  <tbody>\n    <tr>\n      <th>0</th>\n      <td>2021-03-15</td>\n      <td>Train ticket PKP</td>\n      <td>-21.78</td>\n      <td>NaN</td>\n      <td>PLN</td>\n      <td>-21.78</td>\n    </tr>\n    <tr>\n      <th>1</th>\n      <td>2021-03-08</td>\n      <td>Spotify</td>\n      <td>-19.99</td>\n      <td>NaN</td>\n      <td>PLN</td>\n      <td>-19.99</td>\n    </tr>\n    <tr>\n      <th>2</th>\n      <td>2021-02-26</td>\n      <td>Przelew</td>\n      <td>NaN</td>\n      <td>50.00</td>\n      <td>PLN</td>\n      <td>50.00</td>\n    </tr>\n    <tr>\n      <th>3</th>\n      <td>2021-02-26</td>\n      <td>PENSJA</td>\n      <td>NaN</td>\n      <td>1234.78</td>\n      <td>PLN</td>\n      <td>1234.78</td>\n    </tr>\n    <tr>\n      <th>4</th>\n      <td>2021-02-25</td>\n      <td>Zamówienie pizzy</td>\n      <td>-64.90</td>\n      <td>NaN</td>\n      <td>PLN</td>\n      <td>-64.90</td>\n    </tr>\n    <tr>\n      <th>5</th>\n      <td>2021-02-22</td>\n      <td>Telefon</td>\n      <td>-69.00</td>\n      <td>NaN</td>\n      <td>PLN</td>\n      <td>-69.00</td>\n    </tr>\n  </tbody>\n</table>\n</div>"
     },
     "metadata": {},
     "execution_count": 4
    }
   ],
   "source": [
    "import numpy as np\n",
    "df['Operation'] = np.where(df['Obciążenia'] < 0, df['Obciążenia'], df['Uznania'])\n",
    "df\n"
   ]
  },
  {
   "cell_type": "code",
   "execution_count": 5,
   "metadata": {},
   "outputs": [
    {
     "output_type": "execute_result",
     "data": {
      "text/plain": [
       "         Date             Title Currency  Operation       Bank\n",
       "0  2021-03-15  Train ticket PKP      PLN     -21.78  Millenium\n",
       "1  2021-03-08           Spotify      PLN     -19.99  Millenium\n",
       "2  2021-02-26           Przelew      PLN      50.00  Millenium\n",
       "3  2021-02-26            PENSJA      PLN    1234.78  Millenium\n",
       "4  2021-02-25  Zamówienie pizzy      PLN     -64.90  Millenium\n",
       "5  2021-02-22           Telefon      PLN     -69.00  Millenium"
      ],
      "text/html": "<div>\n<style scoped>\n    .dataframe tbody tr th:only-of-type {\n        vertical-align: middle;\n    }\n\n    .dataframe tbody tr th {\n        vertical-align: top;\n    }\n\n    .dataframe thead th {\n        text-align: right;\n    }\n</style>\n<table border=\"1\" class=\"dataframe\">\n  <thead>\n    <tr style=\"text-align: right;\">\n      <th></th>\n      <th>Date</th>\n      <th>Title</th>\n      <th>Currency</th>\n      <th>Operation</th>\n      <th>Bank</th>\n    </tr>\n  </thead>\n  <tbody>\n    <tr>\n      <th>0</th>\n      <td>2021-03-15</td>\n      <td>Train ticket PKP</td>\n      <td>PLN</td>\n      <td>-21.78</td>\n      <td>Millenium</td>\n    </tr>\n    <tr>\n      <th>1</th>\n      <td>2021-03-08</td>\n      <td>Spotify</td>\n      <td>PLN</td>\n      <td>-19.99</td>\n      <td>Millenium</td>\n    </tr>\n    <tr>\n      <th>2</th>\n      <td>2021-02-26</td>\n      <td>Przelew</td>\n      <td>PLN</td>\n      <td>50.00</td>\n      <td>Millenium</td>\n    </tr>\n    <tr>\n      <th>3</th>\n      <td>2021-02-26</td>\n      <td>PENSJA</td>\n      <td>PLN</td>\n      <td>1234.78</td>\n      <td>Millenium</td>\n    </tr>\n    <tr>\n      <th>4</th>\n      <td>2021-02-25</td>\n      <td>Zamówienie pizzy</td>\n      <td>PLN</td>\n      <td>-64.90</td>\n      <td>Millenium</td>\n    </tr>\n    <tr>\n      <th>5</th>\n      <td>2021-02-22</td>\n      <td>Telefon</td>\n      <td>PLN</td>\n      <td>-69.00</td>\n      <td>Millenium</td>\n    </tr>\n  </tbody>\n</table>\n</div>"
     },
     "metadata": {},
     "execution_count": 5
    }
   ],
   "source": [
    "df = df.drop(columns=['Obciążenia', 'Uznania'])\n",
    "df = df.rename(columns={'Data transakcji': 'Date', 'Opis': 'Title', 'Waluta': 'Currency'})\n",
    "df['Bank'] = 'Millenium'\n",
    "existing_columns = list(df.columns)\n",
    "columns = ['Category', 'Comment']\n",
    "df.reindex(existing_columns + columns, axis=\"columns\")\n",
    "df"
   ]
  },
  {
   "cell_type": "code",
   "execution_count": null,
   "metadata": {},
   "outputs": [],
   "source": []
  }
 ]
}