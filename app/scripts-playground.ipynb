{
 "metadata": {
  "language_info": {
   "codemirror_mode": {
    "name": "ipython",
    "version": 3
   },
   "file_extension": ".py",
   "mimetype": "text/x-python",
   "name": "python",
   "nbconvert_exporter": "python",
   "pygments_lexer": "ipython3",
   "version": "3.8.1-final"
  },
  "orig_nbformat": 2,
  "kernelspec": {
   "name": "python3",
   "display_name": "Python 3.8.1 64-bit ('mankkoo-Pag_27BR': venv)",
   "metadata": {
    "interpreter": {
     "hash": "3e86e99ade168580c787099a9f4f80d640e1624efa2d4ec615f6e0f5eedba664"
    }
   }
  }
 },
 "nbformat": 4,
 "nbformat_minor": 2,
 "cells": [
  {
   "cell_type": "code",
   "execution_count": 4,
   "metadata": {},
   "outputs": [
    {
     "output_type": "execute_result",
     "data": {
      "text/plain": [
       "     Bank        Date               Title  Details  Category         Comment  \\\n",
       "0  Bank A  2021-01-31          Init money      NaN       NaN            init   \n",
       "1  Bank A  2021-02-01  Italian restaurant      NaN       NaN     anniversary   \n",
       "2  Bank A  2021-02-02            Market A      NaN       NaN             NaN   \n",
       "3  Bank A  2021-02-03             Netflix      NaN       NaN             NaN   \n",
       "4  Bank A  2021-02-04             Canteen      NaN       NaN             NaN   \n",
       "5  Bank A  2021-02-28              Salary      NaN       NaN  January salary   \n",
       "\n",
       "   Operation Currency  Balance  \n",
       "0     888.48      PLN   888.48  \n",
       "1     -38.26      PLN   850.22  \n",
       "2     -14.72      PLN   835.50  \n",
       "3    -100.00      PLN   735.50  \n",
       "4     -16.20      PLN   719.30  \n",
       "5    1000.56      PLN  1719.86  "
      ],
      "text/html": "<div>\n<style scoped>\n    .dataframe tbody tr th:only-of-type {\n        vertical-align: middle;\n    }\n\n    .dataframe tbody tr th {\n        vertical-align: top;\n    }\n\n    .dataframe thead th {\n        text-align: right;\n    }\n</style>\n<table border=\"1\" class=\"dataframe\">\n  <thead>\n    <tr style=\"text-align: right;\">\n      <th></th>\n      <th>Bank</th>\n      <th>Date</th>\n      <th>Title</th>\n      <th>Details</th>\n      <th>Category</th>\n      <th>Comment</th>\n      <th>Operation</th>\n      <th>Currency</th>\n      <th>Balance</th>\n    </tr>\n  </thead>\n  <tbody>\n    <tr>\n      <th>0</th>\n      <td>Bank A</td>\n      <td>2021-01-31</td>\n      <td>Init money</td>\n      <td>NaN</td>\n      <td>NaN</td>\n      <td>init</td>\n      <td>888.48</td>\n      <td>PLN</td>\n      <td>888.48</td>\n    </tr>\n    <tr>\n      <th>1</th>\n      <td>Bank A</td>\n      <td>2021-02-01</td>\n      <td>Italian restaurant</td>\n      <td>NaN</td>\n      <td>NaN</td>\n      <td>anniversary</td>\n      <td>-38.26</td>\n      <td>PLN</td>\n      <td>850.22</td>\n    </tr>\n    <tr>\n      <th>2</th>\n      <td>Bank A</td>\n      <td>2021-02-02</td>\n      <td>Market A</td>\n      <td>NaN</td>\n      <td>NaN</td>\n      <td>NaN</td>\n      <td>-14.72</td>\n      <td>PLN</td>\n      <td>835.50</td>\n    </tr>\n    <tr>\n      <th>3</th>\n      <td>Bank A</td>\n      <td>2021-02-03</td>\n      <td>Netflix</td>\n      <td>NaN</td>\n      <td>NaN</td>\n      <td>NaN</td>\n      <td>-100.00</td>\n      <td>PLN</td>\n      <td>735.50</td>\n    </tr>\n    <tr>\n      <th>4</th>\n      <td>Bank A</td>\n      <td>2021-02-04</td>\n      <td>Canteen</td>\n      <td>NaN</td>\n      <td>NaN</td>\n      <td>NaN</td>\n      <td>-16.20</td>\n      <td>PLN</td>\n      <td>719.30</td>\n    </tr>\n    <tr>\n      <th>5</th>\n      <td>Bank A</td>\n      <td>2021-02-28</td>\n      <td>Salary</td>\n      <td>NaN</td>\n      <td>NaN</td>\n      <td>January salary</td>\n      <td>1000.56</td>\n      <td>PLN</td>\n      <td>1719.86</td>\n    </tr>\n  </tbody>\n</table>\n</div>"
     },
     "metadata": {},
     "execution_count": 4
    }
   ],
   "source": [
    "import app.scripts.importer\n",
    "\n",
    "# importer.load_data('\\\\real\\\\konto.csv')\n",
    "importer.load_data('\\\\account.csv')\n",
    "\n",
    "# importer.load_pl_millenium('\\\\test_pl_millenium.csv')"
   ]
  },
  {
   "cell_type": "code",
   "execution_count": 3,
   "metadata": {},
   "outputs": [
    {
     "output_type": "execute_result",
     "data": {
      "text/plain": [
       "  Data transakcji              Opis  Obciążenia  Uznania Waluta\n",
       "0      2021-03-15  Train ticket PKP      -21.78      NaN    PLN\n",
       "1      2021-03-08           Spotify      -19.99      NaN    PLN\n",
       "2      2021-02-26           Przelew         NaN    50.00    PLN\n",
       "3      2021-02-26            PENSJA         NaN  1234.78    PLN\n",
       "4      2021-02-25  Zamówienie pizzy      -64.90      NaN    PLN\n",
       "5      2021-02-22           Telefon      -69.00      NaN    PLN"
      ],
      "text/html": "<div>\n<style scoped>\n    .dataframe tbody tr th:only-of-type {\n        vertical-align: middle;\n    }\n\n    .dataframe tbody tr th {\n        vertical-align: top;\n    }\n\n    .dataframe thead th {\n        text-align: right;\n    }\n</style>\n<table border=\"1\" class=\"dataframe\">\n  <thead>\n    <tr style=\"text-align: right;\">\n      <th></th>\n      <th>Data transakcji</th>\n      <th>Opis</th>\n      <th>Obciążenia</th>\n      <th>Uznania</th>\n      <th>Waluta</th>\n    </tr>\n  </thead>\n  <tbody>\n    <tr>\n      <th>0</th>\n      <td>2021-03-15</td>\n      <td>Train ticket PKP</td>\n      <td>-21.78</td>\n      <td>NaN</td>\n      <td>PLN</td>\n    </tr>\n    <tr>\n      <th>1</th>\n      <td>2021-03-08</td>\n      <td>Spotify</td>\n      <td>-19.99</td>\n      <td>NaN</td>\n      <td>PLN</td>\n    </tr>\n    <tr>\n      <th>2</th>\n      <td>2021-02-26</td>\n      <td>Przelew</td>\n      <td>NaN</td>\n      <td>50.00</td>\n      <td>PLN</td>\n    </tr>\n    <tr>\n      <th>3</th>\n      <td>2021-02-26</td>\n      <td>PENSJA</td>\n      <td>NaN</td>\n      <td>1234.78</td>\n      <td>PLN</td>\n    </tr>\n    <tr>\n      <th>4</th>\n      <td>2021-02-25</td>\n      <td>Zamówienie pizzy</td>\n      <td>-64.90</td>\n      <td>NaN</td>\n      <td>PLN</td>\n    </tr>\n    <tr>\n      <th>5</th>\n      <td>2021-02-22</td>\n      <td>Telefon</td>\n      <td>-69.00</td>\n      <td>NaN</td>\n      <td>PLN</td>\n    </tr>\n  </tbody>\n</table>\n</div>"
     },
     "metadata": {},
     "execution_count": 3
    }
   ],
   "source": [
    "df = importer.load_data('\\\\test_pl_millenium.csv')\n",
    "df = df[['Data transakcji', 'Opis', 'Obciążenia', 'Uznania', 'Waluta']]\n",
    "df\n"
   ]
  },
  {
   "cell_type": "code",
   "execution_count": 4,
   "metadata": {},
   "outputs": [
    {
     "output_type": "execute_result",
     "data": {
      "text/plain": [
       "  Data transakcji              Opis  Obciążenia  Uznania Waluta  Operation\n",
       "0      2021-03-15  Train ticket PKP      -21.78      NaN    PLN     -21.78\n",
       "1      2021-03-08           Spotify      -19.99      NaN    PLN     -19.99\n",
       "2      2021-02-26           Przelew         NaN    50.00    PLN      50.00\n",
       "3      2021-02-26            PENSJA         NaN  1234.78    PLN    1234.78\n",
       "4      2021-02-25  Zamówienie pizzy      -64.90      NaN    PLN     -64.90\n",
       "5      2021-02-22           Telefon      -69.00      NaN    PLN     -69.00"
      ],
      "text/html": "<div>\n<style scoped>\n    .dataframe tbody tr th:only-of-type {\n        vertical-align: middle;\n    }\n\n    .dataframe tbody tr th {\n        vertical-align: top;\n    }\n\n    .dataframe thead th {\n        text-align: right;\n    }\n</style>\n<table border=\"1\" class=\"dataframe\">\n  <thead>\n    <tr style=\"text-align: right;\">\n      <th></th>\n      <th>Data transakcji</th>\n      <th>Opis</th>\n      <th>Obciążenia</th>\n      <th>Uznania</th>\n      <th>Waluta</th>\n      <th>Operation</th>\n    </tr>\n  </thead>\n  <tbody>\n    <tr>\n      <th>0</th>\n      <td>2021-03-15</td>\n      <td>Train ticket PKP</td>\n      <td>-21.78</td>\n      <td>NaN</td>\n      <td>PLN</td>\n      <td>-21.78</td>\n    </tr>\n    <tr>\n      <th>1</th>\n      <td>2021-03-08</td>\n      <td>Spotify</td>\n      <td>-19.99</td>\n      <td>NaN</td>\n      <td>PLN</td>\n      <td>-19.99</td>\n    </tr>\n    <tr>\n      <th>2</th>\n      <td>2021-02-26</td>\n      <td>Przelew</td>\n      <td>NaN</td>\n      <td>50.00</td>\n      <td>PLN</td>\n      <td>50.00</td>\n    </tr>\n    <tr>\n      <th>3</th>\n      <td>2021-02-26</td>\n      <td>PENSJA</td>\n      <td>NaN</td>\n      <td>1234.78</td>\n      <td>PLN</td>\n      <td>1234.78</td>\n    </tr>\n    <tr>\n      <th>4</th>\n      <td>2021-02-25</td>\n      <td>Zamówienie pizzy</td>\n      <td>-64.90</td>\n      <td>NaN</td>\n      <td>PLN</td>\n      <td>-64.90</td>\n    </tr>\n    <tr>\n      <th>5</th>\n      <td>2021-02-22</td>\n      <td>Telefon</td>\n      <td>-69.00</td>\n      <td>NaN</td>\n      <td>PLN</td>\n      <td>-69.00</td>\n    </tr>\n  </tbody>\n</table>\n</div>"
     },
     "metadata": {},
     "execution_count": 4
    }
   ],
   "source": [
    "import numpy as np\n",
    "df['Operation'] = np.where(df['Obciążenia'] < 0, df['Obciążenia'], df['Uznania'])\n",
    "df\n"
   ]
  },
  {
   "cell_type": "code",
   "execution_count": 5,
   "metadata": {},
   "outputs": [
    {
     "output_type": "execute_result",
     "data": {
      "text/plain": [
       "         Date             Title Currency  Operation       Bank\n",
       "0  2021-03-15  Train ticket PKP      PLN     -21.78  Millenium\n",
       "1  2021-03-08           Spotify      PLN     -19.99  Millenium\n",
       "2  2021-02-26           Przelew      PLN      50.00  Millenium\n",
       "3  2021-02-26            PENSJA      PLN    1234.78  Millenium\n",
       "4  2021-02-25  Zamówienie pizzy      PLN     -64.90  Millenium\n",
       "5  2021-02-22           Telefon      PLN     -69.00  Millenium"
      ],
      "text/html": "<div>\n<style scoped>\n    .dataframe tbody tr th:only-of-type {\n        vertical-align: middle;\n    }\n\n    .dataframe tbody tr th {\n        vertical-align: top;\n    }\n\n    .dataframe thead th {\n        text-align: right;\n    }\n</style>\n<table border=\"1\" class=\"dataframe\">\n  <thead>\n    <tr style=\"text-align: right;\">\n      <th></th>\n      <th>Date</th>\n      <th>Title</th>\n      <th>Currency</th>\n      <th>Operation</th>\n      <th>Bank</th>\n    </tr>\n  </thead>\n  <tbody>\n    <tr>\n      <th>0</th>\n      <td>2021-03-15</td>\n      <td>Train ticket PKP</td>\n      <td>PLN</td>\n      <td>-21.78</td>\n      <td>Millenium</td>\n    </tr>\n    <tr>\n      <th>1</th>\n      <td>2021-03-08</td>\n      <td>Spotify</td>\n      <td>PLN</td>\n      <td>-19.99</td>\n      <td>Millenium</td>\n    </tr>\n    <tr>\n      <th>2</th>\n      <td>2021-02-26</td>\n      <td>Przelew</td>\n      <td>PLN</td>\n      <td>50.00</td>\n      <td>Millenium</td>\n    </tr>\n    <tr>\n      <th>3</th>\n      <td>2021-02-26</td>\n      <td>PENSJA</td>\n      <td>PLN</td>\n      <td>1234.78</td>\n      <td>Millenium</td>\n    </tr>\n    <tr>\n      <th>4</th>\n      <td>2021-02-25</td>\n      <td>Zamówienie pizzy</td>\n      <td>PLN</td>\n      <td>-64.90</td>\n      <td>Millenium</td>\n    </tr>\n    <tr>\n      <th>5</th>\n      <td>2021-02-22</td>\n      <td>Telefon</td>\n      <td>PLN</td>\n      <td>-69.00</td>\n      <td>Millenium</td>\n    </tr>\n  </tbody>\n</table>\n</div>"
     },
     "metadata": {},
     "execution_count": 5
    }
   ],
   "source": [
    "df = df.drop(columns=['Obciążenia', 'Uznania'])\n",
    "df = df.rename(columns={'Data transakcji': 'Date', 'Opis': 'Title', 'Waluta': 'Currency'})\n",
    "df['Bank'] = 'Millenium'\n",
    "existing_columns = list(df.columns)\n",
    "columns = ['Category', 'Comment']\n",
    "df.reindex(existing_columns + columns, axis=\"columns\")\n",
    "df"
   ]
  },
  {
   "cell_type": "code",
   "execution_count": 7,
   "metadata": {},
   "outputs": [],
   "source": [
    "import scripts.main.config as config\n",
    "\n",
    "df.to_csv(config.mankoo_account_path())"
   ]
  },
  {
   "cell_type": "code",
   "execution_count": 2,
   "metadata": {},
   "outputs": [],
   "source": [
    "import scripts.main.importer as importer\n",
    "\n",
    "account = importer.load_data('account')"
   ]
  }
 ]
}