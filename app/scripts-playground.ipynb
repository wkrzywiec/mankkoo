{
 "metadata": {
  "language_info": {
   "codemirror_mode": {
    "name": "ipython",
    "version": 3
   },
   "file_extension": ".py",
   "mimetype": "text/x-python",
   "name": "python",
   "nbconvert_exporter": "python",
   "pygments_lexer": "ipython3",
   "version": "3.8.1"
  },
  "orig_nbformat": 2,
  "kernelspec": {
   "name": "python381jvsc74a57bd03e86e99ade168580c787099a9f4f80d640e1624efa2d4ec615f6e0f5eedba664",
   "display_name": "Python 3.8.1 64-bit ('mankkoo-Pag_27BR')"
  }
 },
 "nbformat": 4,
 "nbformat_minor": 2,
 "cells": [
  {
   "cell_type": "code",
   "execution_count": 8,
   "metadata": {},
   "outputs": [],
   "source": [
    "import scripts.main.importer as importer\n",
    "import scripts.main.config as config"
   ]
  },
  {
   "source": [
    "## Load account data "
   ],
   "cell_type": "markdown",
   "metadata": {}
  },
  {
   "cell_type": "code",
   "execution_count": 12,
   "metadata": {},
   "outputs": [],
   "source": [
    "df = importer.load_data(importer.FileType.ACCOUNT)\n",
    "# df"
   ]
  },
  {
   "source": [
    "## Add/Modify rows on condition"
   ],
   "cell_type": "markdown",
   "metadata": {}
  },
  {
   "cell_type": "code",
   "execution_count": 13,
   "metadata": {},
   "outputs": [],
   "source": [
    "df.loc[df['Account'] == 'eKonto', 'Type'] = 'checking'"
   ]
  },
  {
   "source": [
    "## Save account file"
   ],
   "cell_type": "markdown",
   "metadata": {}
  },
  {
   "cell_type": "code",
   "execution_count": 9,
   "metadata": {},
   "outputs": [],
   "source": [
    "df.to_csv(config.mankoo_file_path('account'), index=False)"
   ]
  },
  {
   "source": [
    "---\n",
    "## Other"
   ],
   "cell_type": "markdown",
   "metadata": {}
  },
  {
   "cell_type": "code",
   "execution_count": 4,
   "metadata": {},
   "outputs": [
    {
     "output_type": "execute_result",
     "data": {
      "text/plain": [
       "  Data transakcji              Opis  Obciążenia  Uznania Waluta  Operation\n",
       "0      2021-03-15  Train ticket PKP      -21.78      NaN    PLN     -21.78\n",
       "1      2021-03-08           Spotify      -19.99      NaN    PLN     -19.99\n",
       "2      2021-02-26           Przelew         NaN    50.00    PLN      50.00\n",
       "3      2021-02-26            PENSJA         NaN  1234.78    PLN    1234.78\n",
       "4      2021-02-25  Zamówienie pizzy      -64.90      NaN    PLN     -64.90\n",
       "5      2021-02-22           Telefon      -69.00      NaN    PLN     -69.00"
      ],
      "text/html": "<div>\n<style scoped>\n    .dataframe tbody tr th:only-of-type {\n        vertical-align: middle;\n    }\n\n    .dataframe tbody tr th {\n        vertical-align: top;\n    }\n\n    .dataframe thead th {\n        text-align: right;\n    }\n</style>\n<table border=\"1\" class=\"dataframe\">\n  <thead>\n    <tr style=\"text-align: right;\">\n      <th></th>\n      <th>Data transakcji</th>\n      <th>Opis</th>\n      <th>Obciążenia</th>\n      <th>Uznania</th>\n      <th>Waluta</th>\n      <th>Operation</th>\n    </tr>\n  </thead>\n  <tbody>\n    <tr>\n      <th>0</th>\n      <td>2021-03-15</td>\n      <td>Train ticket PKP</td>\n      <td>-21.78</td>\n      <td>NaN</td>\n      <td>PLN</td>\n      <td>-21.78</td>\n    </tr>\n    <tr>\n      <th>1</th>\n      <td>2021-03-08</td>\n      <td>Spotify</td>\n      <td>-19.99</td>\n      <td>NaN</td>\n      <td>PLN</td>\n      <td>-19.99</td>\n    </tr>\n    <tr>\n      <th>2</th>\n      <td>2021-02-26</td>\n      <td>Przelew</td>\n      <td>NaN</td>\n      <td>50.00</td>\n      <td>PLN</td>\n      <td>50.00</td>\n    </tr>\n    <tr>\n      <th>3</th>\n      <td>2021-02-26</td>\n      <td>PENSJA</td>\n      <td>NaN</td>\n      <td>1234.78</td>\n      <td>PLN</td>\n      <td>1234.78</td>\n    </tr>\n    <tr>\n      <th>4</th>\n      <td>2021-02-25</td>\n      <td>Zamówienie pizzy</td>\n      <td>-64.90</td>\n      <td>NaN</td>\n      <td>PLN</td>\n      <td>-64.90</td>\n    </tr>\n    <tr>\n      <th>5</th>\n      <td>2021-02-22</td>\n      <td>Telefon</td>\n      <td>-69.00</td>\n      <td>NaN</td>\n      <td>PLN</td>\n      <td>-69.00</td>\n    </tr>\n  </tbody>\n</table>\n</div>"
     },
     "metadata": {},
     "execution_count": 4
    }
   ],
   "source": [
    "import numpy as np\n",
    "df['Operation'] = np.where(df['Obciążenia'] < 0, df['Obciążenia'], df['Uznania'])\n",
    "df\n"
   ]
  },
  {
   "cell_type": "code",
   "execution_count": 5,
   "metadata": {},
   "outputs": [
    {
     "output_type": "execute_result",
     "data": {
      "text/plain": [
       "         Date             Title Currency  Operation       Bank\n",
       "0  2021-03-15  Train ticket PKP      PLN     -21.78  Millenium\n",
       "1  2021-03-08           Spotify      PLN     -19.99  Millenium\n",
       "2  2021-02-26           Przelew      PLN      50.00  Millenium\n",
       "3  2021-02-26            PENSJA      PLN    1234.78  Millenium\n",
       "4  2021-02-25  Zamówienie pizzy      PLN     -64.90  Millenium\n",
       "5  2021-02-22           Telefon      PLN     -69.00  Millenium"
      ],
      "text/html": "<div>\n<style scoped>\n    .dataframe tbody tr th:only-of-type {\n        vertical-align: middle;\n    }\n\n    .dataframe tbody tr th {\n        vertical-align: top;\n    }\n\n    .dataframe thead th {\n        text-align: right;\n    }\n</style>\n<table border=\"1\" class=\"dataframe\">\n  <thead>\n    <tr style=\"text-align: right;\">\n      <th></th>\n      <th>Date</th>\n      <th>Title</th>\n      <th>Currency</th>\n      <th>Operation</th>\n      <th>Bank</th>\n    </tr>\n  </thead>\n  <tbody>\n    <tr>\n      <th>0</th>\n      <td>2021-03-15</td>\n      <td>Train ticket PKP</td>\n      <td>PLN</td>\n      <td>-21.78</td>\n      <td>Millenium</td>\n    </tr>\n    <tr>\n      <th>1</th>\n      <td>2021-03-08</td>\n      <td>Spotify</td>\n      <td>PLN</td>\n      <td>-19.99</td>\n      <td>Millenium</td>\n    </tr>\n    <tr>\n      <th>2</th>\n      <td>2021-02-26</td>\n      <td>Przelew</td>\n      <td>PLN</td>\n      <td>50.00</td>\n      <td>Millenium</td>\n    </tr>\n    <tr>\n      <th>3</th>\n      <td>2021-02-26</td>\n      <td>PENSJA</td>\n      <td>PLN</td>\n      <td>1234.78</td>\n      <td>Millenium</td>\n    </tr>\n    <tr>\n      <th>4</th>\n      <td>2021-02-25</td>\n      <td>Zamówienie pizzy</td>\n      <td>PLN</td>\n      <td>-64.90</td>\n      <td>Millenium</td>\n    </tr>\n    <tr>\n      <th>5</th>\n      <td>2021-02-22</td>\n      <td>Telefon</td>\n      <td>PLN</td>\n      <td>-69.00</td>\n      <td>Millenium</td>\n    </tr>\n  </tbody>\n</table>\n</div>"
     },
     "metadata": {},
     "execution_count": 5
    }
   ],
   "source": [
    "df = df.drop(columns=['Obciążenia', 'Uznania'])\n",
    "df = df.rename(columns={'Data transakcji': 'Date', 'Opis': 'Title', 'Waluta': 'Currency'})\n",
    "df['Bank'] = 'Millenium'\n",
    "existing_columns = list(df.columns)\n",
    "columns = ['Category', 'Comment']\n",
    "df.reindex(existing_columns + columns, axis=\"columns\")\n",
    "df"
   ]
  }
 ]
}