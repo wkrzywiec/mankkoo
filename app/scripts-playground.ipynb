{
 "metadata": {
  "language_info": {
   "codemirror_mode": {
    "name": "ipython",
    "version": 3
   },
   "file_extension": ".py",
   "mimetype": "text/x-python",
   "name": "python",
   "nbconvert_exporter": "python",
   "pygments_lexer": "ipython3",
   "version": "3.8.1-final"
  },
  "orig_nbformat": 2,
  "kernelspec": {
   "name": "python3",
   "display_name": "Python 3.8.1 64-bit ('mankkoo-Pag_27BR')",
   "metadata": {
    "interpreter": {
     "hash": "3e86e99ade168580c787099a9f4f80d640e1624efa2d4ec615f6e0f5eedba664"
    }
   }
  }
 },
 "nbformat": 4,
 "nbformat_minor": 2,
 "cells": [
  {
   "cell_type": "code",
   "execution_count": 4,
   "metadata": {},
   "outputs": [
    {
     "output_type": "execute_result",
     "data": {
      "text/plain": [
       "     Bank        Date               Title  Details  Category         Comment  \\\n",
       "0  Bank A  2021-01-31          Init money      NaN       NaN            init   \n",
       "1  Bank A  2021-02-01  Italian restaurant      NaN       NaN     anniversary   \n",
       "2  Bank A  2021-02-02            Market A      NaN       NaN             NaN   \n",
       "3  Bank A  2021-02-03             Netflix      NaN       NaN             NaN   \n",
       "4  Bank A  2021-02-04             Canteen      NaN       NaN             NaN   \n",
       "5  Bank A  2021-02-28              Salary      NaN       NaN  January salary   \n",
       "\n",
       "   Operation Currency  Balance  \n",
       "0     888.48      PLN   888.48  \n",
       "1     -38.26      PLN   850.22  \n",
       "2     -14.72      PLN   835.50  \n",
       "3    -100.00      PLN   735.50  \n",
       "4     -16.20      PLN   719.30  \n",
       "5    1000.56      PLN  1719.86  "
      ],
      "text/html": "<div>\n<style scoped>\n    .dataframe tbody tr th:only-of-type {\n        vertical-align: middle;\n    }\n\n    .dataframe tbody tr th {\n        vertical-align: top;\n    }\n\n    .dataframe thead th {\n        text-align: right;\n    }\n</style>\n<table border=\"1\" class=\"dataframe\">\n  <thead>\n    <tr style=\"text-align: right;\">\n      <th></th>\n      <th>Bank</th>\n      <th>Date</th>\n      <th>Title</th>\n      <th>Details</th>\n      <th>Category</th>\n      <th>Comment</th>\n      <th>Operation</th>\n      <th>Currency</th>\n      <th>Balance</th>\n    </tr>\n  </thead>\n  <tbody>\n    <tr>\n      <th>0</th>\n      <td>Bank A</td>\n      <td>2021-01-31</td>\n      <td>Init money</td>\n      <td>NaN</td>\n      <td>NaN</td>\n      <td>init</td>\n      <td>888.48</td>\n      <td>PLN</td>\n      <td>888.48</td>\n    </tr>\n    <tr>\n      <th>1</th>\n      <td>Bank A</td>\n      <td>2021-02-01</td>\n      <td>Italian restaurant</td>\n      <td>NaN</td>\n      <td>NaN</td>\n      <td>anniversary</td>\n      <td>-38.26</td>\n      <td>PLN</td>\n      <td>850.22</td>\n    </tr>\n    <tr>\n      <th>2</th>\n      <td>Bank A</td>\n      <td>2021-02-02</td>\n      <td>Market A</td>\n      <td>NaN</td>\n      <td>NaN</td>\n      <td>NaN</td>\n      <td>-14.72</td>\n      <td>PLN</td>\n      <td>835.50</td>\n    </tr>\n    <tr>\n      <th>3</th>\n      <td>Bank A</td>\n      <td>2021-02-03</td>\n      <td>Netflix</td>\n      <td>NaN</td>\n      <td>NaN</td>\n      <td>NaN</td>\n      <td>-100.00</td>\n      <td>PLN</td>\n      <td>735.50</td>\n    </tr>\n    <tr>\n      <th>4</th>\n      <td>Bank A</td>\n      <td>2021-02-04</td>\n      <td>Canteen</td>\n      <td>NaN</td>\n      <td>NaN</td>\n      <td>NaN</td>\n      <td>-16.20</td>\n      <td>PLN</td>\n      <td>719.30</td>\n    </tr>\n    <tr>\n      <th>5</th>\n      <td>Bank A</td>\n      <td>2021-02-28</td>\n      <td>Salary</td>\n      <td>NaN</td>\n      <td>NaN</td>\n      <td>January salary</td>\n      <td>1000.56</td>\n      <td>PLN</td>\n      <td>1719.86</td>\n    </tr>\n  </tbody>\n</table>\n</div>"
     },
     "metadata": {},
     "execution_count": 4
    }
   ],
   "source": [
    "import app.scripts.importer\n",
    "\n",
    "# importer.load_data('\\\\real\\\\konto.csv')\n",
    "importer.load_data('\\\\account.csv')\n",
    "\n",
    "# importer.load_pl_millenium('\\\\test_pl_millenium.csv')"
   ]
  },
  {
   "cell_type": "code",
   "execution_count": 3,
   "metadata": {},
   "outputs": [
    {
     "output_type": "execute_result",
     "data": {
      "text/plain": [
       "  Data transakcji              Opis  Obciążenia  Uznania Waluta\n",
       "0      2021-03-15  Train ticket PKP      -21.78      NaN    PLN\n",
       "1      2021-03-08           Spotify      -19.99      NaN    PLN\n",
       "2      2021-02-26           Przelew         NaN    50.00    PLN\n",
       "3      2021-02-26            PENSJA         NaN  1234.78    PLN\n",
       "4      2021-02-25  Zamówienie pizzy      -64.90      NaN    PLN\n",
       "5      2021-02-22           Telefon      -69.00      NaN    PLN"
      ],
      "text/html": "<div>\n<style scoped>\n    .dataframe tbody tr th:only-of-type {\n        vertical-align: middle;\n    }\n\n    .dataframe tbody tr th {\n        vertical-align: top;\n    }\n\n    .dataframe thead th {\n        text-align: right;\n    }\n</style>\n<table border=\"1\" class=\"dataframe\">\n  <thead>\n    <tr style=\"text-align: right;\">\n      <th></th>\n      <th>Data transakcji</th>\n      <th>Opis</th>\n      <th>Obciążenia</th>\n      <th>Uznania</th>\n      <th>Waluta</th>\n    </tr>\n  </thead>\n  <tbody>\n    <tr>\n      <th>0</th>\n      <td>2021-03-15</td>\n      <td>Train ticket PKP</td>\n      <td>-21.78</td>\n      <td>NaN</td>\n      <td>PLN</td>\n    </tr>\n    <tr>\n      <th>1</th>\n      <td>2021-03-08</td>\n      <td>Spotify</td>\n      <td>-19.99</td>\n      <td>NaN</td>\n      <td>PLN</td>\n    </tr>\n    <tr>\n      <th>2</th>\n      <td>2021-02-26</td>\n      <td>Przelew</td>\n      <td>NaN</td>\n      <td>50.00</td>\n      <td>PLN</td>\n    </tr>\n    <tr>\n      <th>3</th>\n      <td>2021-02-26</td>\n      <td>PENSJA</td>\n      <td>NaN</td>\n      <td>1234.78</td>\n      <td>PLN</td>\n    </tr>\n    <tr>\n      <th>4</th>\n      <td>2021-02-25</td>\n      <td>Zamówienie pizzy</td>\n      <td>-64.90</td>\n      <td>NaN</td>\n      <td>PLN</td>\n    </tr>\n    <tr>\n      <th>5</th>\n      <td>2021-02-22</td>\n      <td>Telefon</td>\n      <td>-69.00</td>\n      <td>NaN</td>\n      <td>PLN</td>\n    </tr>\n  </tbody>\n</table>\n</div>"
     },
     "metadata": {},
     "execution_count": 3
    }
   ],
   "source": [
    "df = importer.load_data('\\\\test_pl_millenium.csv')\n",
    "df = df[['Data transakcji', 'Opis', 'Obciążenia', 'Uznania', 'Waluta']]\n",
    "df\n"
   ]
  },
  {
   "cell_type": "code",
   "execution_count": 4,
   "metadata": {},
   "outputs": [
    {
     "output_type": "execute_result",
     "data": {
      "text/plain": [
       "  Data transakcji              Opis  Obciążenia  Uznania Waluta  Operation\n",
       "0      2021-03-15  Train ticket PKP      -21.78      NaN    PLN     -21.78\n",
       "1      2021-03-08           Spotify      -19.99      NaN    PLN     -19.99\n",
       "2      2021-02-26           Przelew         NaN    50.00    PLN      50.00\n",
       "3      2021-02-26            PENSJA         NaN  1234.78    PLN    1234.78\n",
       "4      2021-02-25  Zamówienie pizzy      -64.90      NaN    PLN     -64.90\n",
       "5      2021-02-22           Telefon      -69.00      NaN    PLN     -69.00"
      ],
      "text/html": "<div>\n<style scoped>\n    .dataframe tbody tr th:only-of-type {\n        vertical-align: middle;\n    }\n\n    .dataframe tbody tr th {\n        vertical-align: top;\n    }\n\n    .dataframe thead th {\n        text-align: right;\n    }\n</style>\n<table border=\"1\" class=\"dataframe\">\n  <thead>\n    <tr style=\"text-align: right;\">\n      <th></th>\n      <th>Data transakcji</th>\n      <th>Opis</th>\n      <th>Obciążenia</th>\n      <th>Uznania</th>\n      <th>Waluta</th>\n      <th>Operation</th>\n    </tr>\n  </thead>\n  <tbody>\n    <tr>\n      <th>0</th>\n      <td>2021-03-15</td>\n      <td>Train ticket PKP</td>\n      <td>-21.78</td>\n      <td>NaN</td>\n      <td>PLN</td>\n      <td>-21.78</td>\n    </tr>\n    <tr>\n      <th>1</th>\n      <td>2021-03-08</td>\n      <td>Spotify</td>\n      <td>-19.99</td>\n      <td>NaN</td>\n      <td>PLN</td>\n      <td>-19.99</td>\n    </tr>\n    <tr>\n      <th>2</th>\n      <td>2021-02-26</td>\n      <td>Przelew</td>\n      <td>NaN</td>\n      <td>50.00</td>\n      <td>PLN</td>\n      <td>50.00</td>\n    </tr>\n    <tr>\n      <th>3</th>\n      <td>2021-02-26</td>\n      <td>PENSJA</td>\n      <td>NaN</td>\n      <td>1234.78</td>\n      <td>PLN</td>\n      <td>1234.78</td>\n    </tr>\n    <tr>\n      <th>4</th>\n      <td>2021-02-25</td>\n      <td>Zamówienie pizzy</td>\n      <td>-64.90</td>\n      <td>NaN</td>\n      <td>PLN</td>\n      <td>-64.90</td>\n    </tr>\n    <tr>\n      <th>5</th>\n      <td>2021-02-22</td>\n      <td>Telefon</td>\n      <td>-69.00</td>\n      <td>NaN</td>\n      <td>PLN</td>\n      <td>-69.00</td>\n    </tr>\n  </tbody>\n</table>\n</div>"
     },
     "metadata": {},
     "execution_count": 4
    }
   ],
   "source": [
    "import numpy as np\n",
    "df['Operation'] = np.where(df['Obciążenia'] < 0, df['Obciążenia'], df['Uznania'])\n",
    "df\n"
   ]
  },
  {
   "cell_type": "code",
   "execution_count": 5,
   "metadata": {},
   "outputs": [
    {
     "output_type": "execute_result",
     "data": {
      "text/plain": [
       "         Date             Title Currency  Operation       Bank\n",
       "0  2021-03-15  Train ticket PKP      PLN     -21.78  Millenium\n",
       "1  2021-03-08           Spotify      PLN     -19.99  Millenium\n",
       "2  2021-02-26           Przelew      PLN      50.00  Millenium\n",
       "3  2021-02-26            PENSJA      PLN    1234.78  Millenium\n",
       "4  2021-02-25  Zamówienie pizzy      PLN     -64.90  Millenium\n",
       "5  2021-02-22           Telefon      PLN     -69.00  Millenium"
      ],
      "text/html": "<div>\n<style scoped>\n    .dataframe tbody tr th:only-of-type {\n        vertical-align: middle;\n    }\n\n    .dataframe tbody tr th {\n        vertical-align: top;\n    }\n\n    .dataframe thead th {\n        text-align: right;\n    }\n</style>\n<table border=\"1\" class=\"dataframe\">\n  <thead>\n    <tr style=\"text-align: right;\">\n      <th></th>\n      <th>Date</th>\n      <th>Title</th>\n      <th>Currency</th>\n      <th>Operation</th>\n      <th>Bank</th>\n    </tr>\n  </thead>\n  <tbody>\n    <tr>\n      <th>0</th>\n      <td>2021-03-15</td>\n      <td>Train ticket PKP</td>\n      <td>PLN</td>\n      <td>-21.78</td>\n      <td>Millenium</td>\n    </tr>\n    <tr>\n      <th>1</th>\n      <td>2021-03-08</td>\n      <td>Spotify</td>\n      <td>PLN</td>\n      <td>-19.99</td>\n      <td>Millenium</td>\n    </tr>\n    <tr>\n      <th>2</th>\n      <td>2021-02-26</td>\n      <td>Przelew</td>\n      <td>PLN</td>\n      <td>50.00</td>\n      <td>Millenium</td>\n    </tr>\n    <tr>\n      <th>3</th>\n      <td>2021-02-26</td>\n      <td>PENSJA</td>\n      <td>PLN</td>\n      <td>1234.78</td>\n      <td>Millenium</td>\n    </tr>\n    <tr>\n      <th>4</th>\n      <td>2021-02-25</td>\n      <td>Zamówienie pizzy</td>\n      <td>PLN</td>\n      <td>-64.90</td>\n      <td>Millenium</td>\n    </tr>\n    <tr>\n      <th>5</th>\n      <td>2021-02-22</td>\n      <td>Telefon</td>\n      <td>PLN</td>\n      <td>-69.00</td>\n      <td>Millenium</td>\n    </tr>\n  </tbody>\n</table>\n</div>"
     },
     "metadata": {},
     "execution_count": 5
    }
   ],
   "source": [
    "df = df.drop(columns=['Obciążenia', 'Uznania'])\n",
    "df = df.rename(columns={'Data transakcji': 'Date', 'Opis': 'Title', 'Waluta': 'Currency'})\n",
    "df['Bank'] = 'Millenium'\n",
    "existing_columns = list(df.columns)\n",
    "columns = ['Category', 'Comment']\n",
    "df.reindex(existing_columns + columns, axis=\"columns\")\n",
    "df"
   ]
  },
  {
   "cell_type": "code",
   "execution_count": 3,
   "metadata": {},
   "outputs": [
    {
     "output_type": "execute_result",
     "data": {
      "text/plain": [
       "      Unnamed: 0       Bank        Date  \\\n",
       "0              0      Mbank  2018-05-01   \n",
       "1              1      Mbank  2018-05-02   \n",
       "2              2      Mbank  2018-05-02   \n",
       "3              3      Mbank  2018-05-04   \n",
       "4              4      Mbank  2018-05-04   \n",
       "...          ...        ...         ...   \n",
       "1237        1237  Millenium  2021-03-18   \n",
       "1238        1238  Millenium  2021-03-16   \n",
       "1239        1239  Millenium  2021-03-15   \n",
       "1240        1240  Millenium  2021-03-15   \n",
       "1241        1241  Millenium  2021-03-08   \n",
       "\n",
       "                                                  Title  Category  \\\n",
       "0                                                  init       NaN   \n",
       "1                                         Jedzenie: Dom       NaN   \n",
       "2                                       Jedzenie: Praca       NaN   \n",
       "3                                                Relaks       NaN   \n",
       "4                                       Jedzenie: Praca       NaN   \n",
       "...                                                 ...       ...   \n",
       "1237                                 Głupie rozliczenia       NaN   \n",
       "1238  720097818469641 KRZYWIEC WOJCIECH  odbiorca: I...       NaN   \n",
       "1239  P24-Y17-Q22-J37 Oplata Salda / 11822009 PayPro...       NaN   \n",
       "1240  AUT BILET 2485620         WARSZAWA  WARSZAWA P...       NaN   \n",
       "1241  Spotify P13C3933F0        Stockholm  Stockhol ...       NaN   \n",
       "\n",
       "                        Comment  Operation Currency  Balance Account  Active  \n",
       "0     stan na początku miesiąca     957.48      PLN   957.48  eKonto    True  \n",
       "1                           NaN     -38.26      PLN   919.22  eKonto    True  \n",
       "2                           NaN     -14.20      PLN   905.02  eKonto    True  \n",
       "3                        paypal    -100.00      PLN   805.02  eKonto    True  \n",
       "4                           NaN     -16.20      PLN   788.82  eKonto    True  \n",
       "...                         ...        ...      ...      ...     ...     ...  \n",
       "1237                        NaN   -2000.00      PLN  7337.71     360    True  \n",
       "1238                        NaN    -420.00      PLN  6917.71     360    True  \n",
       "1239                        NaN     -17.99      PLN  6899.72     360    True  \n",
       "1240                        NaN      -8.80      PLN  6890.92     360    True  \n",
       "1241                        NaN     -19.99      PLN  6870.93     360    True  \n",
       "\n",
       "[1242 rows x 11 columns]"
      ],
      "text/html": "<div>\n<style scoped>\n    .dataframe tbody tr th:only-of-type {\n        vertical-align: middle;\n    }\n\n    .dataframe tbody tr th {\n        vertical-align: top;\n    }\n\n    .dataframe thead th {\n        text-align: right;\n    }\n</style>\n<table border=\"1\" class=\"dataframe\">\n  <thead>\n    <tr style=\"text-align: right;\">\n      <th></th>\n      <th>Unnamed: 0</th>\n      <th>Bank</th>\n      <th>Date</th>\n      <th>Title</th>\n      <th>Category</th>\n      <th>Comment</th>\n      <th>Operation</th>\n      <th>Currency</th>\n      <th>Balance</th>\n      <th>Account</th>\n      <th>Active</th>\n    </tr>\n  </thead>\n  <tbody>\n    <tr>\n      <th>0</th>\n      <td>0</td>\n      <td>Mbank</td>\n      <td>2018-05-01</td>\n      <td>init</td>\n      <td>NaN</td>\n      <td>stan na początku miesiąca</td>\n      <td>957.48</td>\n      <td>PLN</td>\n      <td>957.48</td>\n      <td>eKonto</td>\n      <td>True</td>\n    </tr>\n    <tr>\n      <th>1</th>\n      <td>1</td>\n      <td>Mbank</td>\n      <td>2018-05-02</td>\n      <td>Jedzenie: Dom</td>\n      <td>NaN</td>\n      <td>NaN</td>\n      <td>-38.26</td>\n      <td>PLN</td>\n      <td>919.22</td>\n      <td>eKonto</td>\n      <td>True</td>\n    </tr>\n    <tr>\n      <th>2</th>\n      <td>2</td>\n      <td>Mbank</td>\n      <td>2018-05-02</td>\n      <td>Jedzenie: Praca</td>\n      <td>NaN</td>\n      <td>NaN</td>\n      <td>-14.20</td>\n      <td>PLN</td>\n      <td>905.02</td>\n      <td>eKonto</td>\n      <td>True</td>\n    </tr>\n    <tr>\n      <th>3</th>\n      <td>3</td>\n      <td>Mbank</td>\n      <td>2018-05-04</td>\n      <td>Relaks</td>\n      <td>NaN</td>\n      <td>paypal</td>\n      <td>-100.00</td>\n      <td>PLN</td>\n      <td>805.02</td>\n      <td>eKonto</td>\n      <td>True</td>\n    </tr>\n    <tr>\n      <th>4</th>\n      <td>4</td>\n      <td>Mbank</td>\n      <td>2018-05-04</td>\n      <td>Jedzenie: Praca</td>\n      <td>NaN</td>\n      <td>NaN</td>\n      <td>-16.20</td>\n      <td>PLN</td>\n      <td>788.82</td>\n      <td>eKonto</td>\n      <td>True</td>\n    </tr>\n    <tr>\n      <th>...</th>\n      <td>...</td>\n      <td>...</td>\n      <td>...</td>\n      <td>...</td>\n      <td>...</td>\n      <td>...</td>\n      <td>...</td>\n      <td>...</td>\n      <td>...</td>\n      <td>...</td>\n      <td>...</td>\n    </tr>\n    <tr>\n      <th>1237</th>\n      <td>1237</td>\n      <td>Millenium</td>\n      <td>2021-03-18</td>\n      <td>Głupie rozliczenia</td>\n      <td>NaN</td>\n      <td>NaN</td>\n      <td>-2000.00</td>\n      <td>PLN</td>\n      <td>7337.71</td>\n      <td>360</td>\n      <td>True</td>\n    </tr>\n    <tr>\n      <th>1238</th>\n      <td>1238</td>\n      <td>Millenium</td>\n      <td>2021-03-16</td>\n      <td>720097818469641 KRZYWIEC WOJCIECH  odbiorca: I...</td>\n      <td>NaN</td>\n      <td>NaN</td>\n      <td>-420.00</td>\n      <td>PLN</td>\n      <td>6917.71</td>\n      <td>360</td>\n      <td>True</td>\n    </tr>\n    <tr>\n      <th>1239</th>\n      <td>1239</td>\n      <td>Millenium</td>\n      <td>2021-03-15</td>\n      <td>P24-Y17-Q22-J37 Oplata Salda / 11822009 PayPro...</td>\n      <td>NaN</td>\n      <td>NaN</td>\n      <td>-17.99</td>\n      <td>PLN</td>\n      <td>6899.72</td>\n      <td>360</td>\n      <td>True</td>\n    </tr>\n    <tr>\n      <th>1240</th>\n      <td>1240</td>\n      <td>Millenium</td>\n      <td>2021-03-15</td>\n      <td>AUT BILET 2485620         WARSZAWA  WARSZAWA P...</td>\n      <td>NaN</td>\n      <td>NaN</td>\n      <td>-8.80</td>\n      <td>PLN</td>\n      <td>6890.92</td>\n      <td>360</td>\n      <td>True</td>\n    </tr>\n    <tr>\n      <th>1241</th>\n      <td>1241</td>\n      <td>Millenium</td>\n      <td>2021-03-08</td>\n      <td>Spotify P13C3933F0        Stockholm  Stockhol ...</td>\n      <td>NaN</td>\n      <td>NaN</td>\n      <td>-19.99</td>\n      <td>PLN</td>\n      <td>6870.93</td>\n      <td>360</td>\n      <td>True</td>\n    </tr>\n  </tbody>\n</table>\n<p>1242 rows × 11 columns</p>\n</div>"
     },
     "metadata": {},
     "execution_count": 3
    }
   ],
   "source": [
    "import scripts.main.importer as importer\n",
    "\n",
    "df = importer.load_data('account')\n",
    "df['Account'] = ['eKonto' if bank == 'Mbank' else '360' for bank in df['Bank']]\n",
    "df['Active'] = True\n",
    "\n",
    "df"
   ]
  },
  {
   "cell_type": "code",
   "execution_count": 6,
   "metadata": {},
   "outputs": [
    {
     "output_type": "execute_result",
     "data": {
      "text/plain": [
       "           Bank Account  Active        Date  \\\n",
       "0         Mbank  eKonto    True  2018-05-01   \n",
       "1         Mbank  eKonto    True  2018-05-02   \n",
       "2         Mbank  eKonto    True  2018-05-02   \n",
       "3         Mbank  eKonto    True  2018-05-04   \n",
       "4         Mbank  eKonto    True  2018-05-04   \n",
       "...         ...     ...     ...         ...   \n",
       "1237  Millenium     360    True  2021-03-18   \n",
       "1238  Millenium     360    True  2021-03-16   \n",
       "1239  Millenium     360    True  2021-03-15   \n",
       "1240  Millenium     360    True  2021-03-15   \n",
       "1241  Millenium     360    True  2021-03-08   \n",
       "\n",
       "                                                  Title  Details  Category  \\\n",
       "0                                                  init      NaN       NaN   \n",
       "1                                         Jedzenie: Dom      NaN       NaN   \n",
       "2                                       Jedzenie: Praca      NaN       NaN   \n",
       "3                                                Relaks      NaN       NaN   \n",
       "4                                       Jedzenie: Praca      NaN       NaN   \n",
       "...                                                 ...      ...       ...   \n",
       "1237                                 Głupie rozliczenia      NaN       NaN   \n",
       "1238  720097818469641 KRZYWIEC WOJCIECH  odbiorca: I...      NaN       NaN   \n",
       "1239  P24-Y17-Q22-J37 Oplata Salda / 11822009 PayPro...      NaN       NaN   \n",
       "1240  AUT BILET 2485620         WARSZAWA  WARSZAWA P...      NaN       NaN   \n",
       "1241  Spotify P13C3933F0        Stockholm  Stockhol ...      NaN       NaN   \n",
       "\n",
       "                        Comment  Operation Currency  Balance  \n",
       "0     stan na początku miesiąca     957.48      PLN   957.48  \n",
       "1                           NaN     -38.26      PLN   919.22  \n",
       "2                           NaN     -14.20      PLN   905.02  \n",
       "3                        paypal    -100.00      PLN   805.02  \n",
       "4                           NaN     -16.20      PLN   788.82  \n",
       "...                         ...        ...      ...      ...  \n",
       "1237                        NaN   -2000.00      PLN  7337.71  \n",
       "1238                        NaN    -420.00      PLN  6917.71  \n",
       "1239                        NaN     -17.99      PLN  6899.72  \n",
       "1240                        NaN      -8.80      PLN  6890.92  \n",
       "1241                        NaN     -19.99      PLN  6870.93  \n",
       "\n",
       "[1242 rows x 11 columns]"
      ],
      "text/html": "<div>\n<style scoped>\n    .dataframe tbody tr th:only-of-type {\n        vertical-align: middle;\n    }\n\n    .dataframe tbody tr th {\n        vertical-align: top;\n    }\n\n    .dataframe thead th {\n        text-align: right;\n    }\n</style>\n<table border=\"1\" class=\"dataframe\">\n  <thead>\n    <tr style=\"text-align: right;\">\n      <th></th>\n      <th>Bank</th>\n      <th>Account</th>\n      <th>Active</th>\n      <th>Date</th>\n      <th>Title</th>\n      <th>Details</th>\n      <th>Category</th>\n      <th>Comment</th>\n      <th>Operation</th>\n      <th>Currency</th>\n      <th>Balance</th>\n    </tr>\n  </thead>\n  <tbody>\n    <tr>\n      <th>0</th>\n      <td>Mbank</td>\n      <td>eKonto</td>\n      <td>True</td>\n      <td>2018-05-01</td>\n      <td>init</td>\n      <td>NaN</td>\n      <td>NaN</td>\n      <td>stan na początku miesiąca</td>\n      <td>957.48</td>\n      <td>PLN</td>\n      <td>957.48</td>\n    </tr>\n    <tr>\n      <th>1</th>\n      <td>Mbank</td>\n      <td>eKonto</td>\n      <td>True</td>\n      <td>2018-05-02</td>\n      <td>Jedzenie: Dom</td>\n      <td>NaN</td>\n      <td>NaN</td>\n      <td>NaN</td>\n      <td>-38.26</td>\n      <td>PLN</td>\n      <td>919.22</td>\n    </tr>\n    <tr>\n      <th>2</th>\n      <td>Mbank</td>\n      <td>eKonto</td>\n      <td>True</td>\n      <td>2018-05-02</td>\n      <td>Jedzenie: Praca</td>\n      <td>NaN</td>\n      <td>NaN</td>\n      <td>NaN</td>\n      <td>-14.20</td>\n      <td>PLN</td>\n      <td>905.02</td>\n    </tr>\n    <tr>\n      <th>3</th>\n      <td>Mbank</td>\n      <td>eKonto</td>\n      <td>True</td>\n      <td>2018-05-04</td>\n      <td>Relaks</td>\n      <td>NaN</td>\n      <td>NaN</td>\n      <td>paypal</td>\n      <td>-100.00</td>\n      <td>PLN</td>\n      <td>805.02</td>\n    </tr>\n    <tr>\n      <th>4</th>\n      <td>Mbank</td>\n      <td>eKonto</td>\n      <td>True</td>\n      <td>2018-05-04</td>\n      <td>Jedzenie: Praca</td>\n      <td>NaN</td>\n      <td>NaN</td>\n      <td>NaN</td>\n      <td>-16.20</td>\n      <td>PLN</td>\n      <td>788.82</td>\n    </tr>\n    <tr>\n      <th>...</th>\n      <td>...</td>\n      <td>...</td>\n      <td>...</td>\n      <td>...</td>\n      <td>...</td>\n      <td>...</td>\n      <td>...</td>\n      <td>...</td>\n      <td>...</td>\n      <td>...</td>\n      <td>...</td>\n    </tr>\n    <tr>\n      <th>1237</th>\n      <td>Millenium</td>\n      <td>360</td>\n      <td>True</td>\n      <td>2021-03-18</td>\n      <td>Głupie rozliczenia</td>\n      <td>NaN</td>\n      <td>NaN</td>\n      <td>NaN</td>\n      <td>-2000.00</td>\n      <td>PLN</td>\n      <td>7337.71</td>\n    </tr>\n    <tr>\n      <th>1238</th>\n      <td>Millenium</td>\n      <td>360</td>\n      <td>True</td>\n      <td>2021-03-16</td>\n      <td>720097818469641 KRZYWIEC WOJCIECH  odbiorca: I...</td>\n      <td>NaN</td>\n      <td>NaN</td>\n      <td>NaN</td>\n      <td>-420.00</td>\n      <td>PLN</td>\n      <td>6917.71</td>\n    </tr>\n    <tr>\n      <th>1239</th>\n      <td>Millenium</td>\n      <td>360</td>\n      <td>True</td>\n      <td>2021-03-15</td>\n      <td>P24-Y17-Q22-J37 Oplata Salda / 11822009 PayPro...</td>\n      <td>NaN</td>\n      <td>NaN</td>\n      <td>NaN</td>\n      <td>-17.99</td>\n      <td>PLN</td>\n      <td>6899.72</td>\n    </tr>\n    <tr>\n      <th>1240</th>\n      <td>Millenium</td>\n      <td>360</td>\n      <td>True</td>\n      <td>2021-03-15</td>\n      <td>AUT BILET 2485620         WARSZAWA  WARSZAWA P...</td>\n      <td>NaN</td>\n      <td>NaN</td>\n      <td>NaN</td>\n      <td>-8.80</td>\n      <td>PLN</td>\n      <td>6890.92</td>\n    </tr>\n    <tr>\n      <th>1241</th>\n      <td>Millenium</td>\n      <td>360</td>\n      <td>True</td>\n      <td>2021-03-08</td>\n      <td>Spotify P13C3933F0        Stockholm  Stockhol ...</td>\n      <td>NaN</td>\n      <td>NaN</td>\n      <td>NaN</td>\n      <td>-19.99</td>\n      <td>PLN</td>\n      <td>6870.93</td>\n    </tr>\n  </tbody>\n</table>\n<p>1242 rows × 11 columns</p>\n</div>"
     },
     "metadata": {},
     "execution_count": 6
    }
   ],
   "source": [
    "import numpy as np\n",
    "\n",
    "df['Details'] = np.NaN\n",
    "df = df[['Bank', 'Account', 'Active', 'Date', 'Title', 'Details', 'Category', 'Comment', 'Operation', 'Currency', 'Balance']]\n",
    "df"
   ]
  },
  {
   "cell_type": "code",
   "execution_count": 7,
   "metadata": {},
   "outputs": [],
   "source": [
    "import scripts.main.config as config\n",
    "\n",
    "df.to_csv(config.mankoo_account_path())"
   ]
  },
  {
   "cell_type": "code",
   "execution_count": null,
   "metadata": {},
   "outputs": [],
   "source": []
  }
 ]
}