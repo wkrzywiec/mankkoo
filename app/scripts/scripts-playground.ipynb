{
 "metadata": {
  "language_info": {
   "codemirror_mode": {
    "name": "ipython",
    "version": 3
   },
   "file_extension": ".py",
   "mimetype": "text/x-python",
   "name": "python",
   "nbconvert_exporter": "python",
   "pygments_lexer": "ipython3",
   "version": "3.8.1-final"
  },
  "orig_nbformat": 2,
  "kernelspec": {
   "name": "python3",
   "display_name": "Python 3.8.1 64-bit ('mankkoo-Pag_27BR')",
   "metadata": {
    "interpreter": {
     "hash": "3e86e99ade168580c787099a9f4f80d640e1624efa2d4ec615f6e0f5eedba664"
    }
   }
  }
 },
 "nbformat": 4,
 "nbformat_minor": 2,
 "cells": [
  {
   "cell_type": "code",
   "execution_count": 5,
   "metadata": {},
   "outputs": [
    {
     "output_type": "error",
     "ename": "TypeError",
     "evalue": "'<' not supported between instances of 'str' and 'int'",
     "traceback": [
      "\u001b[1;31m---------------------------------------------------------------------------\u001b[0m",
      "\u001b[1;31mTypeError\u001b[0m                                 Traceback (most recent call last)",
      "\u001b[1;32m<ipython-input-5-6cebab6315c1>\u001b[0m in \u001b[0;36m<module>\u001b[1;34m\u001b[0m\n\u001b[0;32m      3\u001b[0m \u001b[1;31m# importer.load_data('\\\\real\\\\konto.csv')\u001b[0m\u001b[1;33m\u001b[0m\u001b[1;33m\u001b[0m\u001b[1;33m\u001b[0m\u001b[0m\n\u001b[0;32m      4\u001b[0m \u001b[1;33m\u001b[0m\u001b[0m\n\u001b[1;32m----> 5\u001b[1;33m \u001b[0mimporter\u001b[0m\u001b[1;33m.\u001b[0m\u001b[0mload_pl_millenium\u001b[0m\u001b[1;33m(\u001b[0m\u001b[1;34m'\\\\test_pl_millenium.csv'\u001b[0m\u001b[1;33m)\u001b[0m\u001b[1;33m\u001b[0m\u001b[1;33m\u001b[0m\u001b[0m\n\u001b[0m",
      "\u001b[1;32mc:\\Users\\wojci\\workspace\\mankkoo\\app\\scripts\\importer.py\u001b[0m in \u001b[0;36mload_pl_millenium\u001b[1;34m(file_name)\u001b[0m\n\u001b[0;32m     41\u001b[0m     \u001b[0mdf\u001b[0m \u001b[1;33m=\u001b[0m \u001b[0mdf\u001b[0m\u001b[1;33m[\u001b[0m\u001b[1;33m[\u001b[0m\u001b[1;34m'Data transakcji'\u001b[0m\u001b[1;33m,\u001b[0m \u001b[1;34m'Opis'\u001b[0m\u001b[1;33m,\u001b[0m \u001b[1;34m'Obciążenia'\u001b[0m\u001b[1;33m,\u001b[0m \u001b[1;34m'Uznania'\u001b[0m\u001b[1;33m,\u001b[0m \u001b[1;34m'Waluta'\u001b[0m\u001b[1;33m]\u001b[0m\u001b[1;33m]\u001b[0m\u001b[1;33m\u001b[0m\u001b[1;33m\u001b[0m\u001b[0m\n\u001b[0;32m     42\u001b[0m     df['Operation'] = np.where(\n\u001b[1;32m---> 43\u001b[1;33m         df['Obciążenia'] < 0, df['Obciążenia'], df['Uznania'])\n\u001b[0m\u001b[0;32m     44\u001b[0m     \u001b[0mdf\u001b[0m \u001b[1;33m=\u001b[0m \u001b[0mdf\u001b[0m\u001b[1;33m.\u001b[0m\u001b[0mdrop\u001b[0m\u001b[1;33m(\u001b[0m\u001b[0mcolumns\u001b[0m\u001b[1;33m=\u001b[0m\u001b[1;33m[\u001b[0m\u001b[1;34m'Obciążenia'\u001b[0m\u001b[1;33m,\u001b[0m \u001b[1;34m'Uznania'\u001b[0m\u001b[1;33m]\u001b[0m\u001b[1;33m)\u001b[0m\u001b[1;33m\u001b[0m\u001b[1;33m\u001b[0m\u001b[0m\n\u001b[0;32m     45\u001b[0m     \u001b[0mdf\u001b[0m \u001b[1;33m=\u001b[0m \u001b[0mdf\u001b[0m\u001b[1;33m.\u001b[0m\u001b[0mrename\u001b[0m\u001b[1;33m(\u001b[0m\u001b[0mcolumns\u001b[0m\u001b[1;33m=\u001b[0m\u001b[1;33m{\u001b[0m\u001b[1;34m'Data transakcji'\u001b[0m\u001b[1;33m:\u001b[0m \u001b[1;34m'Date'\u001b[0m\u001b[1;33m,\u001b[0m \u001b[1;34m'Opis'\u001b[0m\u001b[1;33m:\u001b[0m \u001b[1;34m'Title'\u001b[0m\u001b[1;33m,\u001b[0m \u001b[1;34m'Waluta'\u001b[0m\u001b[1;33m:\u001b[0m \u001b[1;34m'Currency'\u001b[0m\u001b[1;33m}\u001b[0m\u001b[1;33m)\u001b[0m\u001b[1;33m\u001b[0m\u001b[1;33m\u001b[0m\u001b[0m\n",
      "\u001b[1;32m~\\.virtualenvs\\mankkoo-Pag_27BR\\lib\\site-packages\\pandas\\core\\ops\\common.py\u001b[0m in \u001b[0;36mnew_method\u001b[1;34m(self, other)\u001b[0m\n\u001b[0;32m     63\u001b[0m         \u001b[0mother\u001b[0m \u001b[1;33m=\u001b[0m \u001b[0mitem_from_zerodim\u001b[0m\u001b[1;33m(\u001b[0m\u001b[0mother\u001b[0m\u001b[1;33m)\u001b[0m\u001b[1;33m\u001b[0m\u001b[1;33m\u001b[0m\u001b[0m\n\u001b[0;32m     64\u001b[0m \u001b[1;33m\u001b[0m\u001b[0m\n\u001b[1;32m---> 65\u001b[1;33m         \u001b[1;32mreturn\u001b[0m \u001b[0mmethod\u001b[0m\u001b[1;33m(\u001b[0m\u001b[0mself\u001b[0m\u001b[1;33m,\u001b[0m \u001b[0mother\u001b[0m\u001b[1;33m)\u001b[0m\u001b[1;33m\u001b[0m\u001b[1;33m\u001b[0m\u001b[0m\n\u001b[0m\u001b[0;32m     66\u001b[0m \u001b[1;33m\u001b[0m\u001b[0m\n\u001b[0;32m     67\u001b[0m     \u001b[1;32mreturn\u001b[0m \u001b[0mnew_method\u001b[0m\u001b[1;33m\u001b[0m\u001b[1;33m\u001b[0m\u001b[0m\n",
      "\u001b[1;32m~\\.virtualenvs\\mankkoo-Pag_27BR\\lib\\site-packages\\pandas\\core\\arraylike.py\u001b[0m in \u001b[0;36m__lt__\u001b[1;34m(self, other)\u001b[0m\n\u001b[0;32m     35\u001b[0m     \u001b[1;33m@\u001b[0m\u001b[0munpack_zerodim_and_defer\u001b[0m\u001b[1;33m(\u001b[0m\u001b[1;34m\"__lt__\"\u001b[0m\u001b[1;33m)\u001b[0m\u001b[1;33m\u001b[0m\u001b[1;33m\u001b[0m\u001b[0m\n\u001b[0;32m     36\u001b[0m     \u001b[1;32mdef\u001b[0m \u001b[0m__lt__\u001b[0m\u001b[1;33m(\u001b[0m\u001b[0mself\u001b[0m\u001b[1;33m,\u001b[0m \u001b[0mother\u001b[0m\u001b[1;33m)\u001b[0m\u001b[1;33m:\u001b[0m\u001b[1;33m\u001b[0m\u001b[1;33m\u001b[0m\u001b[0m\n\u001b[1;32m---> 37\u001b[1;33m         \u001b[1;32mreturn\u001b[0m \u001b[0mself\u001b[0m\u001b[1;33m.\u001b[0m\u001b[0m_cmp_method\u001b[0m\u001b[1;33m(\u001b[0m\u001b[0mother\u001b[0m\u001b[1;33m,\u001b[0m \u001b[0moperator\u001b[0m\u001b[1;33m.\u001b[0m\u001b[0mlt\u001b[0m\u001b[1;33m)\u001b[0m\u001b[1;33m\u001b[0m\u001b[1;33m\u001b[0m\u001b[0m\n\u001b[0m\u001b[0;32m     38\u001b[0m \u001b[1;33m\u001b[0m\u001b[0m\n\u001b[0;32m     39\u001b[0m     \u001b[1;33m@\u001b[0m\u001b[0munpack_zerodim_and_defer\u001b[0m\u001b[1;33m(\u001b[0m\u001b[1;34m\"__le__\"\u001b[0m\u001b[1;33m)\u001b[0m\u001b[1;33m\u001b[0m\u001b[1;33m\u001b[0m\u001b[0m\n",
      "\u001b[1;32m~\\.virtualenvs\\mankkoo-Pag_27BR\\lib\\site-packages\\pandas\\core\\series.py\u001b[0m in \u001b[0;36m_cmp_method\u001b[1;34m(self, other, op)\u001b[0m\n\u001b[0;32m   4976\u001b[0m         \u001b[0mrvalues\u001b[0m \u001b[1;33m=\u001b[0m \u001b[0mextract_array\u001b[0m\u001b[1;33m(\u001b[0m\u001b[0mother\u001b[0m\u001b[1;33m,\u001b[0m \u001b[0mextract_numpy\u001b[0m\u001b[1;33m=\u001b[0m\u001b[1;32mTrue\u001b[0m\u001b[1;33m)\u001b[0m\u001b[1;33m\u001b[0m\u001b[1;33m\u001b[0m\u001b[0m\n\u001b[0;32m   4977\u001b[0m \u001b[1;33m\u001b[0m\u001b[0m\n\u001b[1;32m-> 4978\u001b[1;33m         \u001b[0mres_values\u001b[0m \u001b[1;33m=\u001b[0m \u001b[0mops\u001b[0m\u001b[1;33m.\u001b[0m\u001b[0mcomparison_op\u001b[0m\u001b[1;33m(\u001b[0m\u001b[0mlvalues\u001b[0m\u001b[1;33m,\u001b[0m \u001b[0mrvalues\u001b[0m\u001b[1;33m,\u001b[0m \u001b[0mop\u001b[0m\u001b[1;33m)\u001b[0m\u001b[1;33m\u001b[0m\u001b[1;33m\u001b[0m\u001b[0m\n\u001b[0m\u001b[0;32m   4979\u001b[0m \u001b[1;33m\u001b[0m\u001b[0m\n\u001b[0;32m   4980\u001b[0m         \u001b[1;32mreturn\u001b[0m \u001b[0mself\u001b[0m\u001b[1;33m.\u001b[0m\u001b[0m_construct_result\u001b[0m\u001b[1;33m(\u001b[0m\u001b[0mres_values\u001b[0m\u001b[1;33m,\u001b[0m \u001b[0mname\u001b[0m\u001b[1;33m=\u001b[0m\u001b[0mres_name\u001b[0m\u001b[1;33m)\u001b[0m\u001b[1;33m\u001b[0m\u001b[1;33m\u001b[0m\u001b[0m\n",
      "\u001b[1;32m~\\.virtualenvs\\mankkoo-Pag_27BR\\lib\\site-packages\\pandas\\core\\ops\\array_ops.py\u001b[0m in \u001b[0;36mcomparison_op\u001b[1;34m(left, right, op)\u001b[0m\n\u001b[0;32m    241\u001b[0m \u001b[1;33m\u001b[0m\u001b[0m\n\u001b[0;32m    242\u001b[0m     \u001b[1;32melif\u001b[0m \u001b[0mis_object_dtype\u001b[0m\u001b[1;33m(\u001b[0m\u001b[0mlvalues\u001b[0m\u001b[1;33m.\u001b[0m\u001b[0mdtype\u001b[0m\u001b[1;33m)\u001b[0m\u001b[1;33m:\u001b[0m\u001b[1;33m\u001b[0m\u001b[1;33m\u001b[0m\u001b[0m\n\u001b[1;32m--> 243\u001b[1;33m         \u001b[0mres_values\u001b[0m \u001b[1;33m=\u001b[0m \u001b[0mcomp_method_OBJECT_ARRAY\u001b[0m\u001b[1;33m(\u001b[0m\u001b[0mop\u001b[0m\u001b[1;33m,\u001b[0m \u001b[0mlvalues\u001b[0m\u001b[1;33m,\u001b[0m \u001b[0mrvalues\u001b[0m\u001b[1;33m)\u001b[0m\u001b[1;33m\u001b[0m\u001b[1;33m\u001b[0m\u001b[0m\n\u001b[0m\u001b[0;32m    244\u001b[0m \u001b[1;33m\u001b[0m\u001b[0m\n\u001b[0;32m    245\u001b[0m     \u001b[1;32melse\u001b[0m\u001b[1;33m:\u001b[0m\u001b[1;33m\u001b[0m\u001b[1;33m\u001b[0m\u001b[0m\n",
      "\u001b[1;32m~\\.virtualenvs\\mankkoo-Pag_27BR\\lib\\site-packages\\pandas\\core\\ops\\array_ops.py\u001b[0m in \u001b[0;36mcomp_method_OBJECT_ARRAY\u001b[1;34m(op, x, y)\u001b[0m\n\u001b[0;32m     53\u001b[0m         \u001b[0mresult\u001b[0m \u001b[1;33m=\u001b[0m \u001b[0mlibops\u001b[0m\u001b[1;33m.\u001b[0m\u001b[0mvec_compare\u001b[0m\u001b[1;33m(\u001b[0m\u001b[0mx\u001b[0m\u001b[1;33m.\u001b[0m\u001b[0mravel\u001b[0m\u001b[1;33m(\u001b[0m\u001b[1;33m)\u001b[0m\u001b[1;33m,\u001b[0m \u001b[0my\u001b[0m\u001b[1;33m.\u001b[0m\u001b[0mravel\u001b[0m\u001b[1;33m(\u001b[0m\u001b[1;33m)\u001b[0m\u001b[1;33m,\u001b[0m \u001b[0mop\u001b[0m\u001b[1;33m)\u001b[0m\u001b[1;33m\u001b[0m\u001b[1;33m\u001b[0m\u001b[0m\n\u001b[0;32m     54\u001b[0m     \u001b[1;32melse\u001b[0m\u001b[1;33m:\u001b[0m\u001b[1;33m\u001b[0m\u001b[1;33m\u001b[0m\u001b[0m\n\u001b[1;32m---> 55\u001b[1;33m         \u001b[0mresult\u001b[0m \u001b[1;33m=\u001b[0m \u001b[0mlibops\u001b[0m\u001b[1;33m.\u001b[0m\u001b[0mscalar_compare\u001b[0m\u001b[1;33m(\u001b[0m\u001b[0mx\u001b[0m\u001b[1;33m.\u001b[0m\u001b[0mravel\u001b[0m\u001b[1;33m(\u001b[0m\u001b[1;33m)\u001b[0m\u001b[1;33m,\u001b[0m \u001b[0my\u001b[0m\u001b[1;33m,\u001b[0m \u001b[0mop\u001b[0m\u001b[1;33m)\u001b[0m\u001b[1;33m\u001b[0m\u001b[1;33m\u001b[0m\u001b[0m\n\u001b[0m\u001b[0;32m     56\u001b[0m     \u001b[1;32mreturn\u001b[0m \u001b[0mresult\u001b[0m\u001b[1;33m.\u001b[0m\u001b[0mreshape\u001b[0m\u001b[1;33m(\u001b[0m\u001b[0mx\u001b[0m\u001b[1;33m.\u001b[0m\u001b[0mshape\u001b[0m\u001b[1;33m)\u001b[0m\u001b[1;33m\u001b[0m\u001b[1;33m\u001b[0m\u001b[0m\n\u001b[0;32m     57\u001b[0m \u001b[1;33m\u001b[0m\u001b[0m\n",
      "\u001b[1;32mpandas\\_libs\\ops.pyx\u001b[0m in \u001b[0;36mpandas._libs.ops.scalar_compare\u001b[1;34m()\u001b[0m\n",
      "\u001b[1;31mTypeError\u001b[0m: '<' not supported between instances of 'str' and 'int'"
     ]
    }
   ],
   "source": [
    "import importer\n",
    "\n",
    "# importer.load_data('\\\\real\\\\konto.csv')\n",
    "\n",
    "importer.load_pl_millenium('\\\\test_pl_millenium.csv')"
   ]
  },
  {
   "cell_type": "code",
   "execution_count": 2,
   "metadata": {},
   "outputs": [
    {
     "output_type": "execute_result",
     "data": {
      "text/plain": [
       "   Data transakcji                                               Opis  \\\n",
       "0       2021-03-15  P24-Y17-Q22-J37 Oplata Salda / 11822009 PayPro...   \n",
       "1       2021-03-15  AUT BILET 2485620         WARSZAWA  WARSZAWA P...   \n",
       "2       2021-03-08  Spotify P13C3933F0        Stockholm  Stockhol ...   \n",
       "3       2021-02-27                                     Przelew własny   \n",
       "4       2021-02-26                 XX2047593849XX 115019447 PayU S.A.   \n",
       "5       2021-02-26                        Przelew - Wojciech Krzywiec   \n",
       "6       2021-02-26                                             PENSJA   \n",
       "7       2021-02-25  M3896-16097 Nazwa restauracji: WARSZAWA RAKOWI...   \n",
       "8       2021-02-22  M3283-42333 Wpłata wykonana przez klienta 1001...   \n",
       "9       2021-02-22                                            Telefon   \n",
       "10      2021-02-20  Allegro 448c6551-737 Allegro 448c6551-737 ALLE...   \n",
       "11      2021-02-17  P24-Z65-M88-B46 Oplata Salda / 11645504 PayPro...   \n",
       "12      2021-02-17  P24-Z65-M51-B04 Oplata Salda / 11645480 PayPro...   \n",
       "13      2021-02-17  AUTOMATSPEC               Warszawa  Warszawa P...   \n",
       "14      2021-02-17  CARREFOUR EXPRESS 3348    WARSZAWA  WARSZAWA P...   \n",
       "15      2021-02-17  ASEC Domaniewska Woloska  Warszawa  Warszawa P...   \n",
       "16      2021-02-17  AUT BILET 2481530         WARSZAWA  WARSZAWA P...   \n",
       "\n",
       "    Obciążenia  Uznania Waluta  \n",
       "0       -17.99      NaN    PLN  \n",
       "1        -8.80      NaN    PLN  \n",
       "2       -19.99      NaN    PLN  \n",
       "3   -160000.00      NaN    PLN  \n",
       "4      -179.96      NaN    PLN  \n",
       "5          NaN     50.0    PLN  \n",
       "6          NaN   6628.3    PLN  \n",
       "7       -64.90      NaN    PLN  \n",
       "8       -12.00      NaN    PLN  \n",
       "9      -129.00      NaN    PLN  \n",
       "10      -40.99      NaN    PLN  \n",
       "11      -57.99      NaN    PLN  \n",
       "12      -83.00      NaN    PLN  \n",
       "13       -2.00      NaN    PLN  \n",
       "14       -6.29      NaN    PLN  \n",
       "15       -4.40      NaN    PLN  \n",
       "16       -4.40      NaN    PLN  "
      ],
      "text/html": "<div>\n<style scoped>\n    .dataframe tbody tr th:only-of-type {\n        vertical-align: middle;\n    }\n\n    .dataframe tbody tr th {\n        vertical-align: top;\n    }\n\n    .dataframe thead th {\n        text-align: right;\n    }\n</style>\n<table border=\"1\" class=\"dataframe\">\n  <thead>\n    <tr style=\"text-align: right;\">\n      <th></th>\n      <th>Data transakcji</th>\n      <th>Opis</th>\n      <th>Obciążenia</th>\n      <th>Uznania</th>\n      <th>Waluta</th>\n    </tr>\n  </thead>\n  <tbody>\n    <tr>\n      <th>0</th>\n      <td>2021-03-15</td>\n      <td>P24-Y17-Q22-J37 Oplata Salda / 11822009 PayPro...</td>\n      <td>-17.99</td>\n      <td>NaN</td>\n      <td>PLN</td>\n    </tr>\n    <tr>\n      <th>1</th>\n      <td>2021-03-15</td>\n      <td>AUT BILET 2485620         WARSZAWA  WARSZAWA P...</td>\n      <td>-8.80</td>\n      <td>NaN</td>\n      <td>PLN</td>\n    </tr>\n    <tr>\n      <th>2</th>\n      <td>2021-03-08</td>\n      <td>Spotify P13C3933F0        Stockholm  Stockhol ...</td>\n      <td>-19.99</td>\n      <td>NaN</td>\n      <td>PLN</td>\n    </tr>\n    <tr>\n      <th>3</th>\n      <td>2021-02-27</td>\n      <td>Przelew własny</td>\n      <td>-160000.00</td>\n      <td>NaN</td>\n      <td>PLN</td>\n    </tr>\n    <tr>\n      <th>4</th>\n      <td>2021-02-26</td>\n      <td>XX2047593849XX 115019447 PayU S.A.</td>\n      <td>-179.96</td>\n      <td>NaN</td>\n      <td>PLN</td>\n    </tr>\n    <tr>\n      <th>5</th>\n      <td>2021-02-26</td>\n      <td>Przelew - Wojciech Krzywiec</td>\n      <td>NaN</td>\n      <td>50.0</td>\n      <td>PLN</td>\n    </tr>\n    <tr>\n      <th>6</th>\n      <td>2021-02-26</td>\n      <td>PENSJA</td>\n      <td>NaN</td>\n      <td>6628.3</td>\n      <td>PLN</td>\n    </tr>\n    <tr>\n      <th>7</th>\n      <td>2021-02-25</td>\n      <td>M3896-16097 Nazwa restauracji: WARSZAWA RAKOWI...</td>\n      <td>-64.90</td>\n      <td>NaN</td>\n      <td>PLN</td>\n    </tr>\n    <tr>\n      <th>8</th>\n      <td>2021-02-22</td>\n      <td>M3283-42333 Wpłata wykonana przez klienta 1001...</td>\n      <td>-12.00</td>\n      <td>NaN</td>\n      <td>PLN</td>\n    </tr>\n    <tr>\n      <th>9</th>\n      <td>2021-02-22</td>\n      <td>Telefon</td>\n      <td>-129.00</td>\n      <td>NaN</td>\n      <td>PLN</td>\n    </tr>\n    <tr>\n      <th>10</th>\n      <td>2021-02-20</td>\n      <td>Allegro 448c6551-737 Allegro 448c6551-737 ALLE...</td>\n      <td>-40.99</td>\n      <td>NaN</td>\n      <td>PLN</td>\n    </tr>\n    <tr>\n      <th>11</th>\n      <td>2021-02-17</td>\n      <td>P24-Z65-M88-B46 Oplata Salda / 11645504 PayPro...</td>\n      <td>-57.99</td>\n      <td>NaN</td>\n      <td>PLN</td>\n    </tr>\n    <tr>\n      <th>12</th>\n      <td>2021-02-17</td>\n      <td>P24-Z65-M51-B04 Oplata Salda / 11645480 PayPro...</td>\n      <td>-83.00</td>\n      <td>NaN</td>\n      <td>PLN</td>\n    </tr>\n    <tr>\n      <th>13</th>\n      <td>2021-02-17</td>\n      <td>AUTOMATSPEC               Warszawa  Warszawa P...</td>\n      <td>-2.00</td>\n      <td>NaN</td>\n      <td>PLN</td>\n    </tr>\n    <tr>\n      <th>14</th>\n      <td>2021-02-17</td>\n      <td>CARREFOUR EXPRESS 3348    WARSZAWA  WARSZAWA P...</td>\n      <td>-6.29</td>\n      <td>NaN</td>\n      <td>PLN</td>\n    </tr>\n    <tr>\n      <th>15</th>\n      <td>2021-02-17</td>\n      <td>ASEC Domaniewska Woloska  Warszawa  Warszawa P...</td>\n      <td>-4.40</td>\n      <td>NaN</td>\n      <td>PLN</td>\n    </tr>\n    <tr>\n      <th>16</th>\n      <td>2021-02-17</td>\n      <td>AUT BILET 2481530         WARSZAWA  WARSZAWA P...</td>\n      <td>-4.40</td>\n      <td>NaN</td>\n      <td>PLN</td>\n    </tr>\n  </tbody>\n</table>\n</div>"
     },
     "metadata": {},
     "execution_count": 2
    }
   ],
   "source": [
    "df = importer.load_data('\\\\millenium.csv')\n",
    "df = df[['Data transakcji', 'Opis', 'Obciążenia', 'Uznania', 'Waluta']]\n",
    "df\n"
   ]
  },
  {
   "cell_type": "code",
   "execution_count": 3,
   "metadata": {},
   "outputs": [
    {
     "output_type": "execute_result",
     "data": {
      "text/plain": [
       "   Data transakcji                                               Opis  \\\n",
       "0       2021-03-15  P24-Y17-Q22-J37 Oplata Salda / 11822009 PayPro...   \n",
       "1       2021-03-15  AUT BILET 2485620         WARSZAWA  WARSZAWA P...   \n",
       "2       2021-03-08  Spotify P13C3933F0        Stockholm  Stockhol ...   \n",
       "3       2021-02-27                                     Przelew własny   \n",
       "4       2021-02-26                 XX2047593849XX 115019447 PayU S.A.   \n",
       "5       2021-02-26                        Przelew - Wojciech Krzywiec   \n",
       "6       2021-02-26                                             PENSJA   \n",
       "7       2021-02-25  M3896-16097 Nazwa restauracji: WARSZAWA RAKOWI...   \n",
       "8       2021-02-22  M3283-42333 Wpłata wykonana przez klienta 1001...   \n",
       "9       2021-02-22                                            Telefon   \n",
       "10      2021-02-20  Allegro 448c6551-737 Allegro 448c6551-737 ALLE...   \n",
       "11      2021-02-17  P24-Z65-M88-B46 Oplata Salda / 11645504 PayPro...   \n",
       "12      2021-02-17  P24-Z65-M51-B04 Oplata Salda / 11645480 PayPro...   \n",
       "13      2021-02-17  AUTOMATSPEC               Warszawa  Warszawa P...   \n",
       "14      2021-02-17  CARREFOUR EXPRESS 3348    WARSZAWA  WARSZAWA P...   \n",
       "15      2021-02-17  ASEC Domaniewska Woloska  Warszawa  Warszawa P...   \n",
       "16      2021-02-17  AUT BILET 2481530         WARSZAWA  WARSZAWA P...   \n",
       "\n",
       "    Obciążenia  Uznania Waluta  Operation  \n",
       "0       -17.99      NaN    PLN     -17.99  \n",
       "1        -8.80      NaN    PLN      -8.80  \n",
       "2       -19.99      NaN    PLN     -19.99  \n",
       "3   -160000.00      NaN    PLN -160000.00  \n",
       "4      -179.96      NaN    PLN    -179.96  \n",
       "5          NaN     50.0    PLN      50.00  \n",
       "6          NaN   6628.3    PLN    6628.30  \n",
       "7       -64.90      NaN    PLN     -64.90  \n",
       "8       -12.00      NaN    PLN     -12.00  \n",
       "9      -129.00      NaN    PLN    -129.00  \n",
       "10      -40.99      NaN    PLN     -40.99  \n",
       "11      -57.99      NaN    PLN     -57.99  \n",
       "12      -83.00      NaN    PLN     -83.00  \n",
       "13       -2.00      NaN    PLN      -2.00  \n",
       "14       -6.29      NaN    PLN      -6.29  \n",
       "15       -4.40      NaN    PLN      -4.40  \n",
       "16       -4.40      NaN    PLN      -4.40  "
      ],
      "text/html": "<div>\n<style scoped>\n    .dataframe tbody tr th:only-of-type {\n        vertical-align: middle;\n    }\n\n    .dataframe tbody tr th {\n        vertical-align: top;\n    }\n\n    .dataframe thead th {\n        text-align: right;\n    }\n</style>\n<table border=\"1\" class=\"dataframe\">\n  <thead>\n    <tr style=\"text-align: right;\">\n      <th></th>\n      <th>Data transakcji</th>\n      <th>Opis</th>\n      <th>Obciążenia</th>\n      <th>Uznania</th>\n      <th>Waluta</th>\n      <th>Operation</th>\n    </tr>\n  </thead>\n  <tbody>\n    <tr>\n      <th>0</th>\n      <td>2021-03-15</td>\n      <td>P24-Y17-Q22-J37 Oplata Salda / 11822009 PayPro...</td>\n      <td>-17.99</td>\n      <td>NaN</td>\n      <td>PLN</td>\n      <td>-17.99</td>\n    </tr>\n    <tr>\n      <th>1</th>\n      <td>2021-03-15</td>\n      <td>AUT BILET 2485620         WARSZAWA  WARSZAWA P...</td>\n      <td>-8.80</td>\n      <td>NaN</td>\n      <td>PLN</td>\n      <td>-8.80</td>\n    </tr>\n    <tr>\n      <th>2</th>\n      <td>2021-03-08</td>\n      <td>Spotify P13C3933F0        Stockholm  Stockhol ...</td>\n      <td>-19.99</td>\n      <td>NaN</td>\n      <td>PLN</td>\n      <td>-19.99</td>\n    </tr>\n    <tr>\n      <th>3</th>\n      <td>2021-02-27</td>\n      <td>Przelew własny</td>\n      <td>-160000.00</td>\n      <td>NaN</td>\n      <td>PLN</td>\n      <td>-160000.00</td>\n    </tr>\n    <tr>\n      <th>4</th>\n      <td>2021-02-26</td>\n      <td>XX2047593849XX 115019447 PayU S.A.</td>\n      <td>-179.96</td>\n      <td>NaN</td>\n      <td>PLN</td>\n      <td>-179.96</td>\n    </tr>\n    <tr>\n      <th>5</th>\n      <td>2021-02-26</td>\n      <td>Przelew - Wojciech Krzywiec</td>\n      <td>NaN</td>\n      <td>50.0</td>\n      <td>PLN</td>\n      <td>50.00</td>\n    </tr>\n    <tr>\n      <th>6</th>\n      <td>2021-02-26</td>\n      <td>PENSJA</td>\n      <td>NaN</td>\n      <td>6628.3</td>\n      <td>PLN</td>\n      <td>6628.30</td>\n    </tr>\n    <tr>\n      <th>7</th>\n      <td>2021-02-25</td>\n      <td>M3896-16097 Nazwa restauracji: WARSZAWA RAKOWI...</td>\n      <td>-64.90</td>\n      <td>NaN</td>\n      <td>PLN</td>\n      <td>-64.90</td>\n    </tr>\n    <tr>\n      <th>8</th>\n      <td>2021-02-22</td>\n      <td>M3283-42333 Wpłata wykonana przez klienta 1001...</td>\n      <td>-12.00</td>\n      <td>NaN</td>\n      <td>PLN</td>\n      <td>-12.00</td>\n    </tr>\n    <tr>\n      <th>9</th>\n      <td>2021-02-22</td>\n      <td>Telefon</td>\n      <td>-129.00</td>\n      <td>NaN</td>\n      <td>PLN</td>\n      <td>-129.00</td>\n    </tr>\n    <tr>\n      <th>10</th>\n      <td>2021-02-20</td>\n      <td>Allegro 448c6551-737 Allegro 448c6551-737 ALLE...</td>\n      <td>-40.99</td>\n      <td>NaN</td>\n      <td>PLN</td>\n      <td>-40.99</td>\n    </tr>\n    <tr>\n      <th>11</th>\n      <td>2021-02-17</td>\n      <td>P24-Z65-M88-B46 Oplata Salda / 11645504 PayPro...</td>\n      <td>-57.99</td>\n      <td>NaN</td>\n      <td>PLN</td>\n      <td>-57.99</td>\n    </tr>\n    <tr>\n      <th>12</th>\n      <td>2021-02-17</td>\n      <td>P24-Z65-M51-B04 Oplata Salda / 11645480 PayPro...</td>\n      <td>-83.00</td>\n      <td>NaN</td>\n      <td>PLN</td>\n      <td>-83.00</td>\n    </tr>\n    <tr>\n      <th>13</th>\n      <td>2021-02-17</td>\n      <td>AUTOMATSPEC               Warszawa  Warszawa P...</td>\n      <td>-2.00</td>\n      <td>NaN</td>\n      <td>PLN</td>\n      <td>-2.00</td>\n    </tr>\n    <tr>\n      <th>14</th>\n      <td>2021-02-17</td>\n      <td>CARREFOUR EXPRESS 3348    WARSZAWA  WARSZAWA P...</td>\n      <td>-6.29</td>\n      <td>NaN</td>\n      <td>PLN</td>\n      <td>-6.29</td>\n    </tr>\n    <tr>\n      <th>15</th>\n      <td>2021-02-17</td>\n      <td>ASEC Domaniewska Woloska  Warszawa  Warszawa P...</td>\n      <td>-4.40</td>\n      <td>NaN</td>\n      <td>PLN</td>\n      <td>-4.40</td>\n    </tr>\n    <tr>\n      <th>16</th>\n      <td>2021-02-17</td>\n      <td>AUT BILET 2481530         WARSZAWA  WARSZAWA P...</td>\n      <td>-4.40</td>\n      <td>NaN</td>\n      <td>PLN</td>\n      <td>-4.40</td>\n    </tr>\n  </tbody>\n</table>\n</div>"
     },
     "metadata": {},
     "execution_count": 3
    }
   ],
   "source": [
    "import numpy as np\n",
    "df['Operation'] = np.where(df['Obciążenia'] < 0, df['Obciążenia'], df['Uznania'])\n",
    "df\n"
   ]
  },
  {
   "cell_type": "code",
   "execution_count": 4,
   "metadata": {},
   "outputs": [
    {
     "output_type": "execute_result",
     "data": {
      "text/plain": [
       "          Date                                              Title Currency  \\\n",
       "0   2021-03-15  P24-Y17-Q22-J37 Oplata Salda / 11822009 PayPro...      PLN   \n",
       "1   2021-03-15  AUT BILET 2485620         WARSZAWA  WARSZAWA P...      PLN   \n",
       "2   2021-03-08  Spotify P13C3933F0        Stockholm  Stockhol ...      PLN   \n",
       "3   2021-02-27                                     Przelew własny      PLN   \n",
       "4   2021-02-26                 XX2047593849XX 115019447 PayU S.A.      PLN   \n",
       "5   2021-02-26                        Przelew - Wojciech Krzywiec      PLN   \n",
       "6   2021-02-26                                             PENSJA      PLN   \n",
       "7   2021-02-25  M3896-16097 Nazwa restauracji: WARSZAWA RAKOWI...      PLN   \n",
       "8   2021-02-22  M3283-42333 Wpłata wykonana przez klienta 1001...      PLN   \n",
       "9   2021-02-22                                            Telefon      PLN   \n",
       "10  2021-02-20  Allegro 448c6551-737 Allegro 448c6551-737 ALLE...      PLN   \n",
       "11  2021-02-17  P24-Z65-M88-B46 Oplata Salda / 11645504 PayPro...      PLN   \n",
       "12  2021-02-17  P24-Z65-M51-B04 Oplata Salda / 11645480 PayPro...      PLN   \n",
       "13  2021-02-17  AUTOMATSPEC               Warszawa  Warszawa P...      PLN   \n",
       "14  2021-02-17  CARREFOUR EXPRESS 3348    WARSZAWA  WARSZAWA P...      PLN   \n",
       "15  2021-02-17  ASEC Domaniewska Woloska  Warszawa  Warszawa P...      PLN   \n",
       "16  2021-02-17  AUT BILET 2481530         WARSZAWA  WARSZAWA P...      PLN   \n",
       "\n",
       "    Operation       Bank  \n",
       "0      -17.99  Millenium  \n",
       "1       -8.80  Millenium  \n",
       "2      -19.99  Millenium  \n",
       "3  -160000.00  Millenium  \n",
       "4     -179.96  Millenium  \n",
       "5       50.00  Millenium  \n",
       "6     6628.30  Millenium  \n",
       "7      -64.90  Millenium  \n",
       "8      -12.00  Millenium  \n",
       "9     -129.00  Millenium  \n",
       "10     -40.99  Millenium  \n",
       "11     -57.99  Millenium  \n",
       "12     -83.00  Millenium  \n",
       "13      -2.00  Millenium  \n",
       "14      -6.29  Millenium  \n",
       "15      -4.40  Millenium  \n",
       "16      -4.40  Millenium  "
      ],
      "text/html": "<div>\n<style scoped>\n    .dataframe tbody tr th:only-of-type {\n        vertical-align: middle;\n    }\n\n    .dataframe tbody tr th {\n        vertical-align: top;\n    }\n\n    .dataframe thead th {\n        text-align: right;\n    }\n</style>\n<table border=\"1\" class=\"dataframe\">\n  <thead>\n    <tr style=\"text-align: right;\">\n      <th></th>\n      <th>Date</th>\n      <th>Title</th>\n      <th>Currency</th>\n      <th>Operation</th>\n      <th>Bank</th>\n    </tr>\n  </thead>\n  <tbody>\n    <tr>\n      <th>0</th>\n      <td>2021-03-15</td>\n      <td>P24-Y17-Q22-J37 Oplata Salda / 11822009 PayPro...</td>\n      <td>PLN</td>\n      <td>-17.99</td>\n      <td>Millenium</td>\n    </tr>\n    <tr>\n      <th>1</th>\n      <td>2021-03-15</td>\n      <td>AUT BILET 2485620         WARSZAWA  WARSZAWA P...</td>\n      <td>PLN</td>\n      <td>-8.80</td>\n      <td>Millenium</td>\n    </tr>\n    <tr>\n      <th>2</th>\n      <td>2021-03-08</td>\n      <td>Spotify P13C3933F0        Stockholm  Stockhol ...</td>\n      <td>PLN</td>\n      <td>-19.99</td>\n      <td>Millenium</td>\n    </tr>\n    <tr>\n      <th>3</th>\n      <td>2021-02-27</td>\n      <td>Przelew własny</td>\n      <td>PLN</td>\n      <td>-160000.00</td>\n      <td>Millenium</td>\n    </tr>\n    <tr>\n      <th>4</th>\n      <td>2021-02-26</td>\n      <td>XX2047593849XX 115019447 PayU S.A.</td>\n      <td>PLN</td>\n      <td>-179.96</td>\n      <td>Millenium</td>\n    </tr>\n    <tr>\n      <th>5</th>\n      <td>2021-02-26</td>\n      <td>Przelew - Wojciech Krzywiec</td>\n      <td>PLN</td>\n      <td>50.00</td>\n      <td>Millenium</td>\n    </tr>\n    <tr>\n      <th>6</th>\n      <td>2021-02-26</td>\n      <td>PENSJA</td>\n      <td>PLN</td>\n      <td>6628.30</td>\n      <td>Millenium</td>\n    </tr>\n    <tr>\n      <th>7</th>\n      <td>2021-02-25</td>\n      <td>M3896-16097 Nazwa restauracji: WARSZAWA RAKOWI...</td>\n      <td>PLN</td>\n      <td>-64.90</td>\n      <td>Millenium</td>\n    </tr>\n    <tr>\n      <th>8</th>\n      <td>2021-02-22</td>\n      <td>M3283-42333 Wpłata wykonana przez klienta 1001...</td>\n      <td>PLN</td>\n      <td>-12.00</td>\n      <td>Millenium</td>\n    </tr>\n    <tr>\n      <th>9</th>\n      <td>2021-02-22</td>\n      <td>Telefon</td>\n      <td>PLN</td>\n      <td>-129.00</td>\n      <td>Millenium</td>\n    </tr>\n    <tr>\n      <th>10</th>\n      <td>2021-02-20</td>\n      <td>Allegro 448c6551-737 Allegro 448c6551-737 ALLE...</td>\n      <td>PLN</td>\n      <td>-40.99</td>\n      <td>Millenium</td>\n    </tr>\n    <tr>\n      <th>11</th>\n      <td>2021-02-17</td>\n      <td>P24-Z65-M88-B46 Oplata Salda / 11645504 PayPro...</td>\n      <td>PLN</td>\n      <td>-57.99</td>\n      <td>Millenium</td>\n    </tr>\n    <tr>\n      <th>12</th>\n      <td>2021-02-17</td>\n      <td>P24-Z65-M51-B04 Oplata Salda / 11645480 PayPro...</td>\n      <td>PLN</td>\n      <td>-83.00</td>\n      <td>Millenium</td>\n    </tr>\n    <tr>\n      <th>13</th>\n      <td>2021-02-17</td>\n      <td>AUTOMATSPEC               Warszawa  Warszawa P...</td>\n      <td>PLN</td>\n      <td>-2.00</td>\n      <td>Millenium</td>\n    </tr>\n    <tr>\n      <th>14</th>\n      <td>2021-02-17</td>\n      <td>CARREFOUR EXPRESS 3348    WARSZAWA  WARSZAWA P...</td>\n      <td>PLN</td>\n      <td>-6.29</td>\n      <td>Millenium</td>\n    </tr>\n    <tr>\n      <th>15</th>\n      <td>2021-02-17</td>\n      <td>ASEC Domaniewska Woloska  Warszawa  Warszawa P...</td>\n      <td>PLN</td>\n      <td>-4.40</td>\n      <td>Millenium</td>\n    </tr>\n    <tr>\n      <th>16</th>\n      <td>2021-02-17</td>\n      <td>AUT BILET 2481530         WARSZAWA  WARSZAWA P...</td>\n      <td>PLN</td>\n      <td>-4.40</td>\n      <td>Millenium</td>\n    </tr>\n  </tbody>\n</table>\n</div>"
     },
     "metadata": {},
     "execution_count": 4
    }
   ],
   "source": [
    "df = df.drop(columns=['Obciążenia', 'Uznania'])\n",
    "df = df.rename(columns={'Data transakcji': 'Date', 'Opis': 'Title', 'Waluta': 'Currency'})\n",
    "df['Bank'] = 'Millenium'\n",
    "existing_columns = list(df.columns)\n",
    "columns = ['Category', 'Comment']\n",
    "df.reindex(existing_columns + columns, axis=\"columns\")\n",
    "df"
   ]
  },
  {
   "cell_type": "code",
   "execution_count": null,
   "metadata": {},
   "outputs": [],
   "source": []
  }
 ]
}