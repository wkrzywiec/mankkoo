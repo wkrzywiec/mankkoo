{
 "metadata": {
  "language_info": {
   "codemirror_mode": {
    "name": "ipython",
    "version": 3
   },
   "file_extension": ".py",
   "mimetype": "text/x-python",
   "name": "python",
   "nbconvert_exporter": "python",
   "pygments_lexer": "ipython3",
   "version": "3.8.1-final"
  },
  "orig_nbformat": 2,
  "kernelspec": {
   "name": "python3",
   "display_name": "Python 3.8.1 64-bit ('mankkoo-Pag_27BR')",
   "metadata": {
    "interpreter": {
     "hash": "3e86e99ade168580c787099a9f4f80d640e1624efa2d4ec615f6e0f5eedba664"
    }
   }
  }
 },
 "nbformat": 4,
 "nbformat_minor": 2,
 "cells": [
  {
   "cell_type": "code",
   "execution_count": 1,
   "metadata": {},
   "outputs": [
    {
     "output_type": "execute_result",
     "data": {
      "text/plain": [
       "     Bank        Date               Title  Details  Category         Comment  \\\n",
       "0  Bank A  31/01/2021          Init money      NaN       NaN            init   \n",
       "1  Bank A  01/02/2021  Italian restaurant      NaN       NaN     anniversary   \n",
       "2  Bank A  02/02/2021            Market A      NaN       NaN             NaN   \n",
       "3  Bank A  03/02/2021             Netflix      NaN       NaN             NaN   \n",
       "4  Bank A  04/02/2021             Canteen      NaN       NaN             NaN   \n",
       "5  Bank A  05/02/2021              Salary      NaN       NaN  January salary   \n",
       "\n",
       "  Operation Currency  Balance  \n",
       "0    888,48      PLN   888,48  \n",
       "1    -38,26      PLN   850,22  \n",
       "2    -14,72      PLN   835,50  \n",
       "3   -100,00      PLN   735,50  \n",
       "4    -16,20      PLN   719,30  \n",
       "5   1000,56      PLN  1719,86  "
      ],
      "text/html": "<div>\n<style scoped>\n    .dataframe tbody tr th:only-of-type {\n        vertical-align: middle;\n    }\n\n    .dataframe tbody tr th {\n        vertical-align: top;\n    }\n\n    .dataframe thead th {\n        text-align: right;\n    }\n</style>\n<table border=\"1\" class=\"dataframe\">\n  <thead>\n    <tr style=\"text-align: right;\">\n      <th></th>\n      <th>Bank</th>\n      <th>Date</th>\n      <th>Title</th>\n      <th>Details</th>\n      <th>Category</th>\n      <th>Comment</th>\n      <th>Operation</th>\n      <th>Currency</th>\n      <th>Balance</th>\n    </tr>\n  </thead>\n  <tbody>\n    <tr>\n      <th>0</th>\n      <td>Bank A</td>\n      <td>31/01/2021</td>\n      <td>Init money</td>\n      <td>NaN</td>\n      <td>NaN</td>\n      <td>init</td>\n      <td>888,48</td>\n      <td>PLN</td>\n      <td>888,48</td>\n    </tr>\n    <tr>\n      <th>1</th>\n      <td>Bank A</td>\n      <td>01/02/2021</td>\n      <td>Italian restaurant</td>\n      <td>NaN</td>\n      <td>NaN</td>\n      <td>anniversary</td>\n      <td>-38,26</td>\n      <td>PLN</td>\n      <td>850,22</td>\n    </tr>\n    <tr>\n      <th>2</th>\n      <td>Bank A</td>\n      <td>02/02/2021</td>\n      <td>Market A</td>\n      <td>NaN</td>\n      <td>NaN</td>\n      <td>NaN</td>\n      <td>-14,72</td>\n      <td>PLN</td>\n      <td>835,50</td>\n    </tr>\n    <tr>\n      <th>3</th>\n      <td>Bank A</td>\n      <td>03/02/2021</td>\n      <td>Netflix</td>\n      <td>NaN</td>\n      <td>NaN</td>\n      <td>NaN</td>\n      <td>-100,00</td>\n      <td>PLN</td>\n      <td>735,50</td>\n    </tr>\n    <tr>\n      <th>4</th>\n      <td>Bank A</td>\n      <td>04/02/2021</td>\n      <td>Canteen</td>\n      <td>NaN</td>\n      <td>NaN</td>\n      <td>NaN</td>\n      <td>-16,20</td>\n      <td>PLN</td>\n      <td>719,30</td>\n    </tr>\n    <tr>\n      <th>5</th>\n      <td>Bank A</td>\n      <td>05/02/2021</td>\n      <td>Salary</td>\n      <td>NaN</td>\n      <td>NaN</td>\n      <td>January salary</td>\n      <td>1000,56</td>\n      <td>PLN</td>\n      <td>1719,86</td>\n    </tr>\n  </tbody>\n</table>\n</div>"
     },
     "metadata": {},
     "execution_count": 1
    }
   ],
   "source": [
    "import importer\n",
    "\n",
    "importer.load_data('account.csv')"
   ]
  },
  {
   "cell_type": "code",
   "execution_count": null,
   "metadata": {},
   "outputs": [],
   "source": []
  }
 ]
}